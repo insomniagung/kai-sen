{
 "cells": [
  {
   "cell_type": "markdown",
   "id": "3d98d21d-3ad8-4a64-ac7d-ea907c56ab55",
   "metadata": {
    "tags": []
   },
   "source": [
    "# Text Mining"
   ]
  },
  {
   "cell_type": "markdown",
   "id": "fcfc76ac-04a8-4b37-a45f-f2066cf26ae7",
   "metadata": {
    "tags": []
   },
   "source": [
    "## 1. Scraping Data:"
   ]
  },
  {
   "cell_type": "markdown",
   "id": "c804df00-2437-44e6-94bf-558d48a06075",
   "metadata": {},
   "source": [
    "Mengambil 20000 data yang paling relevan dari aplikasi KAI Access Google Play Store."
   ]
  },
  {
   "cell_type": "code",
   "execution_count": 44,
   "id": "77612db5-3288-49c2-841e-afc01258dc60",
   "metadata": {},
   "outputs": [],
   "source": [
    "from google_play_scraper import Sort, reviews\n",
    "\n",
    "# Mengambil ulasan dari Aplikasi KAI Access\n",
    "app_id = 'com.kai.kaiticketing'\n",
    "result, continuation_token = reviews(\n",
    "    app_id,\n",
    "    lang='id',\n",
    "    country='id',\n",
    "    sort=Sort.MOST_RELEVANT,\n",
    "    filter_score_with=None,\n",
    "    count=20000\n",
    ")"
   ]
  },
  {
   "cell_type": "code",
   "execution_count": 45,
   "id": "8ea2783b-3917-4738-8cb6-10ea77adbc9a",
   "metadata": {},
   "outputs": [
    {
     "name": "stdout",
     "output_type": "stream",
     "text": [
      "20000\n"
     ]
    },
    {
     "data": {
      "text/html": [
       "<div>\n",
       "<style scoped>\n",
       "    .dataframe tbody tr th:only-of-type {\n",
       "        vertical-align: middle;\n",
       "    }\n",
       "\n",
       "    .dataframe tbody tr th {\n",
       "        vertical-align: top;\n",
       "    }\n",
       "\n",
       "    .dataframe thead th {\n",
       "        text-align: right;\n",
       "    }\n",
       "</style>\n",
       "<table border=\"1\" class=\"dataframe\">\n",
       "  <thead>\n",
       "    <tr style=\"text-align: right;\">\n",
       "      <th></th>\n",
       "      <th>reviewId</th>\n",
       "      <th>userName</th>\n",
       "      <th>userImage</th>\n",
       "      <th>content</th>\n",
       "      <th>score</th>\n",
       "      <th>thumbsUpCount</th>\n",
       "      <th>reviewCreatedVersion</th>\n",
       "      <th>at</th>\n",
       "      <th>replyContent</th>\n",
       "      <th>repliedAt</th>\n",
       "      <th>appVersion</th>\n",
       "    </tr>\n",
       "  </thead>\n",
       "  <tbody>\n",
       "    <tr>\n",
       "      <th>0</th>\n",
       "      <td>90ab925d-dfb2-4ca2-b033-8d4a50ca4089</td>\n",
       "      <td>Zaelani Garut</td>\n",
       "      <td>https://play-lh.googleusercontent.com/a-/AD_cM...</td>\n",
       "      <td>Meskipun apk nya di update tapi gpp it's Oky m...</td>\n",
       "      <td>5</td>\n",
       "      <td>3</td>\n",
       "      <td>6.0.0</td>\n",
       "      <td>2023-07-17 19:53:35</td>\n",
       "      <td>Hi Kak, Terima kasih telah menggunakan aplikas...</td>\n",
       "      <td>2023-07-18 10:29:13</td>\n",
       "      <td>6.0.0</td>\n",
       "    </tr>\n",
       "    <tr>\n",
       "      <th>1</th>\n",
       "      <td>a5f3ab89-ed13-4b81-b87f-ee587114c709</td>\n",
       "      <td>Taufiq Haryo</td>\n",
       "      <td>https://play-lh.googleusercontent.com/a-/AD_cM...</td>\n",
       "      <td>Baru tau ternyata aplikasinya dah berubah, dan...</td>\n",
       "      <td>1</td>\n",
       "      <td>15</td>\n",
       "      <td>6.0.0</td>\n",
       "      <td>2023-07-16 20:35:34</td>\n",
       "      <td>Mohon maaf untuk kendalanya. Silahkan coba unt...</td>\n",
       "      <td>2023-07-17 10:22:16</td>\n",
       "      <td>6.0.0</td>\n",
       "    </tr>\n",
       "    <tr>\n",
       "      <th>2</th>\n",
       "      <td>3fd86512-8d8c-4f44-bcd6-6634c1d966e4</td>\n",
       "      <td>izaiza iza</td>\n",
       "      <td>https://play-lh.googleusercontent.com/a-/AD_cM...</td>\n",
       "      <td>Tetiba baru nyadar kalau ada update aplikasi t...</td>\n",
       "      <td>1</td>\n",
       "      <td>5</td>\n",
       "      <td>6.0.0</td>\n",
       "      <td>2023-07-18 06:18:29</td>\n",
       "      <td>Mohon maaf kendalanya. Kode OTP gagal terikiri...</td>\n",
       "      <td>2023-07-18 09:31:06</td>\n",
       "      <td>6.0.0</td>\n",
       "    </tr>\n",
       "    <tr>\n",
       "      <th>3</th>\n",
       "      <td>8e279119-45db-4824-aede-edf40ff5f08f</td>\n",
       "      <td>Hafidzul 'Azmi</td>\n",
       "      <td>https://play-lh.googleusercontent.com/a-/AD_cM...</td>\n",
       "      <td>Penilaian saya update terbaru: -terasa font te...</td>\n",
       "      <td>2</td>\n",
       "      <td>9</td>\n",
       "      <td>6.0.0</td>\n",
       "      <td>2023-07-15 12:48:11</td>\n",
       "      <td>Mohon maaf atas kendalanya. Aplikasi kami seda...</td>\n",
       "      <td>2023-07-18 13:50:57</td>\n",
       "      <td>6.0.0</td>\n",
       "    </tr>\n",
       "    <tr>\n",
       "      <th>4</th>\n",
       "      <td>8ebac85a-5bda-40af-94d4-f6421479c6d6</td>\n",
       "      <td>Adinda Ismalian</td>\n",
       "      <td>https://play-lh.googleusercontent.com/a/AAcHTt...</td>\n",
       "      <td>Anehh banget asli deh aplikasi nya, lemottt bg...</td>\n",
       "      <td>1</td>\n",
       "      <td>144</td>\n",
       "      <td>5.1.4</td>\n",
       "      <td>2023-07-01 18:46:32</td>\n",
       "      <td>Hi Kak, Mohon maaf atas kendalanya, untuk kend...</td>\n",
       "      <td>2023-07-11 09:02:55</td>\n",
       "      <td>5.1.4</td>\n",
       "    </tr>\n",
       "  </tbody>\n",
       "</table>\n",
       "</div>"
      ],
      "text/plain": [
       "                               reviewId         userName  \\\n",
       "0  90ab925d-dfb2-4ca2-b033-8d4a50ca4089    Zaelani Garut   \n",
       "1  a5f3ab89-ed13-4b81-b87f-ee587114c709     Taufiq Haryo   \n",
       "2  3fd86512-8d8c-4f44-bcd6-6634c1d966e4       izaiza iza   \n",
       "3  8e279119-45db-4824-aede-edf40ff5f08f   Hafidzul 'Azmi   \n",
       "4  8ebac85a-5bda-40af-94d4-f6421479c6d6  Adinda Ismalian   \n",
       "\n",
       "                                           userImage  \\\n",
       "0  https://play-lh.googleusercontent.com/a-/AD_cM...   \n",
       "1  https://play-lh.googleusercontent.com/a-/AD_cM...   \n",
       "2  https://play-lh.googleusercontent.com/a-/AD_cM...   \n",
       "3  https://play-lh.googleusercontent.com/a-/AD_cM...   \n",
       "4  https://play-lh.googleusercontent.com/a/AAcHTt...   \n",
       "\n",
       "                                             content  score  thumbsUpCount  \\\n",
       "0  Meskipun apk nya di update tapi gpp it's Oky m...      5              3   \n",
       "1  Baru tau ternyata aplikasinya dah berubah, dan...      1             15   \n",
       "2  Tetiba baru nyadar kalau ada update aplikasi t...      1              5   \n",
       "3  Penilaian saya update terbaru: -terasa font te...      2              9   \n",
       "4  Anehh banget asli deh aplikasi nya, lemottt bg...      1            144   \n",
       "\n",
       "  reviewCreatedVersion                  at  \\\n",
       "0                6.0.0 2023-07-17 19:53:35   \n",
       "1                6.0.0 2023-07-16 20:35:34   \n",
       "2                6.0.0 2023-07-18 06:18:29   \n",
       "3                6.0.0 2023-07-15 12:48:11   \n",
       "4                5.1.4 2023-07-01 18:46:32   \n",
       "\n",
       "                                        replyContent           repliedAt  \\\n",
       "0  Hi Kak, Terima kasih telah menggunakan aplikas... 2023-07-18 10:29:13   \n",
       "1  Mohon maaf untuk kendalanya. Silahkan coba unt... 2023-07-17 10:22:16   \n",
       "2  Mohon maaf kendalanya. Kode OTP gagal terikiri... 2023-07-18 09:31:06   \n",
       "3  Mohon maaf atas kendalanya. Aplikasi kami seda... 2023-07-18 13:50:57   \n",
       "4  Hi Kak, Mohon maaf atas kendalanya, untuk kend... 2023-07-11 09:02:55   \n",
       "\n",
       "  appVersion  \n",
       "0      6.0.0  \n",
       "1      6.0.0  \n",
       "2      6.0.0  \n",
       "3      6.0.0  \n",
       "4      5.1.4  "
      ]
     },
     "execution_count": 45,
     "metadata": {},
     "output_type": "execute_result"
    }
   ],
   "source": [
    "import pandas as pd\n",
    "\n",
    "# menampilkan hasil scraping\n",
    "df_scraping = pd.DataFrame(result)\n",
    "print(len(df_scraping))\n",
    "df_scraping.head()"
   ]
  },
  {
   "cell_type": "markdown",
   "id": "7aef65cd-8750-44d9-a3d3-6bf970b7f6d7",
   "metadata": {},
   "source": [
    "## 2. Filter Data"
   ]
  },
  {
   "cell_type": "markdown",
   "id": "6ccc3f43-6427-488f-ae33-84dd8d42f52a",
   "metadata": {},
   "source": [
    "Memilih hanya data ulasan yang memiliki kata 'tiket', maksimal 6000 data."
   ]
  },
  {
   "cell_type": "code",
   "execution_count": 46,
   "id": "0c257c5a-5dfe-4025-8014-2a8337031b4a",
   "metadata": {},
   "outputs": [],
   "source": [
    "# Membuat list untuk menyimpan ulasan\n",
    "scraping_reviews = []\n",
    "\n",
    "# Mengambil 6000 ulasan yang mengandung kata 'tiket'\n",
    "for scraping in result:\n",
    "    if 'tiket' in scraping['content'].lower():\n",
    "        scraping_reviews.append(scraping)\n",
    "        if len(scraping_reviews) == 6000:\n",
    "            break"
   ]
  },
  {
   "cell_type": "code",
   "execution_count": 47,
   "id": "0dd41581-a22c-479b-a2dd-14a284202955",
   "metadata": {
    "tags": []
   },
   "outputs": [
    {
     "name": "stdout",
     "output_type": "stream",
     "text": [
      "total data:  6000\n",
      "tipe data ulasan (content):  object\n"
     ]
    },
    {
     "data": {
      "text/html": [
       "<div>\n",
       "<style scoped>\n",
       "    .dataframe tbody tr th:only-of-type {\n",
       "        vertical-align: middle;\n",
       "    }\n",
       "\n",
       "    .dataframe tbody tr th {\n",
       "        vertical-align: top;\n",
       "    }\n",
       "\n",
       "    .dataframe thead th {\n",
       "        text-align: right;\n",
       "    }\n",
       "</style>\n",
       "<table border=\"1\" class=\"dataframe\">\n",
       "  <thead>\n",
       "    <tr style=\"text-align: right;\">\n",
       "      <th></th>\n",
       "      <th>reviewId</th>\n",
       "      <th>userName</th>\n",
       "      <th>userImage</th>\n",
       "      <th>content</th>\n",
       "      <th>score</th>\n",
       "      <th>thumbsUpCount</th>\n",
       "      <th>reviewCreatedVersion</th>\n",
       "      <th>at</th>\n",
       "      <th>replyContent</th>\n",
       "      <th>repliedAt</th>\n",
       "      <th>appVersion</th>\n",
       "    </tr>\n",
       "  </thead>\n",
       "  <tbody>\n",
       "    <tr>\n",
       "      <th>0</th>\n",
       "      <td>a5f3ab89-ed13-4b81-b87f-ee587114c709</td>\n",
       "      <td>Taufiq Haryo</td>\n",
       "      <td>https://play-lh.googleusercontent.com/a-/AD_cM...</td>\n",
       "      <td>Baru tau ternyata aplikasinya dah berubah, dan...</td>\n",
       "      <td>1</td>\n",
       "      <td>15</td>\n",
       "      <td>6.0.0</td>\n",
       "      <td>2023-07-16 20:35:34</td>\n",
       "      <td>Mohon maaf untuk kendalanya. Silahkan coba unt...</td>\n",
       "      <td>2023-07-17 10:22:16</td>\n",
       "      <td>6.0.0</td>\n",
       "    </tr>\n",
       "    <tr>\n",
       "      <th>1</th>\n",
       "      <td>6f396237-ea62-48d0-b0d8-ae0cce33a1f0</td>\n",
       "      <td>Mahija Parama Ascarya Supala</td>\n",
       "      <td>https://play-lh.googleusercontent.com/a-/AD_cM...</td>\n",
       "      <td>Sejauh yang saya rasakan saat ini, saya merasa...</td>\n",
       "      <td>3</td>\n",
       "      <td>0</td>\n",
       "      <td>5.1.4</td>\n",
       "      <td>2023-07-17 18:31:53</td>\n",
       "      <td>Mohon maaf untuk kendalanya. Terkait kendala t...</td>\n",
       "      <td>2023-07-18 10:39:19</td>\n",
       "      <td>5.1.4</td>\n",
       "    </tr>\n",
       "    <tr>\n",
       "      <th>2</th>\n",
       "      <td>34cd0d3b-6a6c-4191-8da7-cd57fdd6b2ee</td>\n",
       "      <td>Kayana Naranaya</td>\n",
       "      <td>https://play-lh.googleusercontent.com/a-/AD_cM...</td>\n",
       "      <td>makin nyesel update, cmn mau cek jadwal krl, u...</td>\n",
       "      <td>1</td>\n",
       "      <td>6</td>\n",
       "      <td>6.0.0</td>\n",
       "      <td>2023-07-14 14:59:13</td>\n",
       "      <td>halo kak, terima kasih masukannya, akan kami p...</td>\n",
       "      <td>2023-07-15 15:20:28</td>\n",
       "      <td>6.0.0</td>\n",
       "    </tr>\n",
       "    <tr>\n",
       "      <th>3</th>\n",
       "      <td>2b4c580f-0e64-4967-8d82-d63fd237d42f</td>\n",
       "      <td>Widi Yana Official</td>\n",
       "      <td>https://play-lh.googleusercontent.com/a-/AD_cM...</td>\n",
       "      <td>Bingung deh sama apk baru ini. Udh pesen tiket...</td>\n",
       "      <td>1</td>\n",
       "      <td>0</td>\n",
       "      <td>6.0.0</td>\n",
       "      <td>2023-07-17 14:03:18</td>\n",
       "      <td>Mohon maaf atas kendalannya. Untuk menangani k...</td>\n",
       "      <td>2023-07-17 15:38:54</td>\n",
       "      <td>6.0.0</td>\n",
       "    </tr>\n",
       "    <tr>\n",
       "      <th>4</th>\n",
       "      <td>6aaefb0e-32b3-431f-bbf6-5527b9525761</td>\n",
       "      <td>Taufik Ismail</td>\n",
       "      <td>https://play-lh.googleusercontent.com/a-/AD_cM...</td>\n",
       "      <td>Pelanggan diusahakan harus hati-hati dalam pem...</td>\n",
       "      <td>1</td>\n",
       "      <td>3</td>\n",
       "      <td>5.1.4</td>\n",
       "      <td>2023-07-10 15:06:29</td>\n",
       "      <td>Hi Kak, Mohon maaf atas kendalanya, untuk kend...</td>\n",
       "      <td>2023-07-10 16:53:39</td>\n",
       "      <td>5.1.4</td>\n",
       "    </tr>\n",
       "  </tbody>\n",
       "</table>\n",
       "</div>"
      ],
      "text/plain": [
       "                               reviewId                      userName  \\\n",
       "0  a5f3ab89-ed13-4b81-b87f-ee587114c709                  Taufiq Haryo   \n",
       "1  6f396237-ea62-48d0-b0d8-ae0cce33a1f0  Mahija Parama Ascarya Supala   \n",
       "2  34cd0d3b-6a6c-4191-8da7-cd57fdd6b2ee               Kayana Naranaya   \n",
       "3  2b4c580f-0e64-4967-8d82-d63fd237d42f            Widi Yana Official   \n",
       "4  6aaefb0e-32b3-431f-bbf6-5527b9525761                 Taufik Ismail   \n",
       "\n",
       "                                           userImage  \\\n",
       "0  https://play-lh.googleusercontent.com/a-/AD_cM...   \n",
       "1  https://play-lh.googleusercontent.com/a-/AD_cM...   \n",
       "2  https://play-lh.googleusercontent.com/a-/AD_cM...   \n",
       "3  https://play-lh.googleusercontent.com/a-/AD_cM...   \n",
       "4  https://play-lh.googleusercontent.com/a-/AD_cM...   \n",
       "\n",
       "                                             content  score  thumbsUpCount  \\\n",
       "0  Baru tau ternyata aplikasinya dah berubah, dan...      1             15   \n",
       "1  Sejauh yang saya rasakan saat ini, saya merasa...      3              0   \n",
       "2  makin nyesel update, cmn mau cek jadwal krl, u...      1              6   \n",
       "3  Bingung deh sama apk baru ini. Udh pesen tiket...      1              0   \n",
       "4  Pelanggan diusahakan harus hati-hati dalam pem...      1              3   \n",
       "\n",
       "  reviewCreatedVersion                  at  \\\n",
       "0                6.0.0 2023-07-16 20:35:34   \n",
       "1                5.1.4 2023-07-17 18:31:53   \n",
       "2                6.0.0 2023-07-14 14:59:13   \n",
       "3                6.0.0 2023-07-17 14:03:18   \n",
       "4                5.1.4 2023-07-10 15:06:29   \n",
       "\n",
       "                                        replyContent           repliedAt  \\\n",
       "0  Mohon maaf untuk kendalanya. Silahkan coba unt... 2023-07-17 10:22:16   \n",
       "1  Mohon maaf untuk kendalanya. Terkait kendala t... 2023-07-18 10:39:19   \n",
       "2  halo kak, terima kasih masukannya, akan kami p... 2023-07-15 15:20:28   \n",
       "3  Mohon maaf atas kendalannya. Untuk menangani k... 2023-07-17 15:38:54   \n",
       "4  Hi Kak, Mohon maaf atas kendalanya, untuk kend... 2023-07-10 16:53:39   \n",
       "\n",
       "  appVersion  \n",
       "0      6.0.0  \n",
       "1      5.1.4  \n",
       "2      6.0.0  \n",
       "3      6.0.0  \n",
       "4      5.1.4  "
      ]
     },
     "execution_count": 47,
     "metadata": {},
     "output_type": "execute_result"
    }
   ],
   "source": [
    "import pandas as pd\n",
    "df_filter = pd.DataFrame(scraping_reviews)\n",
    "\n",
    "print(\"total data: \", len(df_filter))\n",
    "print(\"tipe data ulasan (content): \", df_filter['content'].dtypes)\n",
    "df_filter.head()"
   ]
  },
  {
   "cell_type": "markdown",
   "id": "7aa232f7-032d-47e8-9fbf-33b7dac1c1ab",
   "metadata": {},
   "source": [
    "## 3. Simpan Dataset CSV"
   ]
  },
  {
   "cell_type": "code",
   "execution_count": 48,
   "id": "d43b0280-bc6d-4e93-8305-531f83b1f5fc",
   "metadata": {},
   "outputs": [],
   "source": [
    "df_filter.to_csv(\"tm_ulasan_tiket_kai_access.csv\", index=False)"
   ]
  },
  {
   "cell_type": "markdown",
   "id": "31cae228",
   "metadata": {
    "tags": []
   },
   "source": [
    "\n",
    "# Text Preprocessing"
   ]
  },
  {
   "cell_type": "markdown",
   "id": "75a98f8f",
   "metadata": {
    "tags": []
   },
   "source": [
    "## 1. Data Checking :"
   ]
  },
  {
   "cell_type": "markdown",
   "id": "a66f9378-322f-4a61-b06c-e31f70dd4831",
   "metadata": {},
   "source": [
    "Melakukan pengecekan data, seperti nilai null dan memisahkan fitur yang akan digunakan."
   ]
  },
  {
   "cell_type": "code",
   "execution_count": 49,
   "id": "21b639fd",
   "metadata": {
    "tags": []
   },
   "outputs": [
    {
     "name": "stdout",
     "output_type": "stream",
     "text": [
      "total data:  6000\n"
     ]
    },
    {
     "data": {
      "text/html": [
       "<div>\n",
       "<style scoped>\n",
       "    .dataframe tbody tr th:only-of-type {\n",
       "        vertical-align: middle;\n",
       "    }\n",
       "\n",
       "    .dataframe tbody tr th {\n",
       "        vertical-align: top;\n",
       "    }\n",
       "\n",
       "    .dataframe thead th {\n",
       "        text-align: right;\n",
       "    }\n",
       "</style>\n",
       "<table border=\"1\" class=\"dataframe\">\n",
       "  <thead>\n",
       "    <tr style=\"text-align: right;\">\n",
       "      <th></th>\n",
       "      <th>reviewId</th>\n",
       "      <th>userName</th>\n",
       "      <th>userImage</th>\n",
       "      <th>content</th>\n",
       "      <th>score</th>\n",
       "      <th>thumbsUpCount</th>\n",
       "      <th>reviewCreatedVersion</th>\n",
       "      <th>at</th>\n",
       "      <th>replyContent</th>\n",
       "      <th>repliedAt</th>\n",
       "      <th>appVersion</th>\n",
       "    </tr>\n",
       "  </thead>\n",
       "  <tbody>\n",
       "    <tr>\n",
       "      <th>0</th>\n",
       "      <td>a5f3ab89-ed13-4b81-b87f-ee587114c709</td>\n",
       "      <td>Taufiq Haryo</td>\n",
       "      <td>https://play-lh.googleusercontent.com/a-/AD_cM...</td>\n",
       "      <td>Baru tau ternyata aplikasinya dah berubah, dan...</td>\n",
       "      <td>1</td>\n",
       "      <td>15</td>\n",
       "      <td>6.0.0</td>\n",
       "      <td>2023-07-16 20:35:34</td>\n",
       "      <td>Mohon maaf untuk kendalanya. Silahkan coba unt...</td>\n",
       "      <td>2023-07-17 10:22:16</td>\n",
       "      <td>6.0.0</td>\n",
       "    </tr>\n",
       "    <tr>\n",
       "      <th>1</th>\n",
       "      <td>6f396237-ea62-48d0-b0d8-ae0cce33a1f0</td>\n",
       "      <td>Mahija Parama Ascarya Supala</td>\n",
       "      <td>https://play-lh.googleusercontent.com/a-/AD_cM...</td>\n",
       "      <td>Sejauh yang saya rasakan saat ini, saya merasa...</td>\n",
       "      <td>3</td>\n",
       "      <td>0</td>\n",
       "      <td>5.1.4</td>\n",
       "      <td>2023-07-17 18:31:53</td>\n",
       "      <td>Mohon maaf untuk kendalanya. Terkait kendala t...</td>\n",
       "      <td>2023-07-18 10:39:19</td>\n",
       "      <td>5.1.4</td>\n",
       "    </tr>\n",
       "    <tr>\n",
       "      <th>2</th>\n",
       "      <td>34cd0d3b-6a6c-4191-8da7-cd57fdd6b2ee</td>\n",
       "      <td>Kayana Naranaya</td>\n",
       "      <td>https://play-lh.googleusercontent.com/a-/AD_cM...</td>\n",
       "      <td>makin nyesel update, cmn mau cek jadwal krl, u...</td>\n",
       "      <td>1</td>\n",
       "      <td>6</td>\n",
       "      <td>6.0.0</td>\n",
       "      <td>2023-07-14 14:59:13</td>\n",
       "      <td>halo kak, terima kasih masukannya, akan kami p...</td>\n",
       "      <td>2023-07-15 15:20:28</td>\n",
       "      <td>6.0.0</td>\n",
       "    </tr>\n",
       "    <tr>\n",
       "      <th>3</th>\n",
       "      <td>2b4c580f-0e64-4967-8d82-d63fd237d42f</td>\n",
       "      <td>Widi Yana Official</td>\n",
       "      <td>https://play-lh.googleusercontent.com/a-/AD_cM...</td>\n",
       "      <td>Bingung deh sama apk baru ini. Udh pesen tiket...</td>\n",
       "      <td>1</td>\n",
       "      <td>0</td>\n",
       "      <td>6.0.0</td>\n",
       "      <td>2023-07-17 14:03:18</td>\n",
       "      <td>Mohon maaf atas kendalannya. Untuk menangani k...</td>\n",
       "      <td>2023-07-17 15:38:54</td>\n",
       "      <td>6.0.0</td>\n",
       "    </tr>\n",
       "    <tr>\n",
       "      <th>4</th>\n",
       "      <td>6aaefb0e-32b3-431f-bbf6-5527b9525761</td>\n",
       "      <td>Taufik Ismail</td>\n",
       "      <td>https://play-lh.googleusercontent.com/a-/AD_cM...</td>\n",
       "      <td>Pelanggan diusahakan harus hati-hati dalam pem...</td>\n",
       "      <td>1</td>\n",
       "      <td>3</td>\n",
       "      <td>5.1.4</td>\n",
       "      <td>2023-07-10 15:06:29</td>\n",
       "      <td>Hi Kak, Mohon maaf atas kendalanya, untuk kend...</td>\n",
       "      <td>2023-07-10 16:53:39</td>\n",
       "      <td>5.1.4</td>\n",
       "    </tr>\n",
       "  </tbody>\n",
       "</table>\n",
       "</div>"
      ],
      "text/plain": [
       "                               reviewId                      userName  \\\n",
       "0  a5f3ab89-ed13-4b81-b87f-ee587114c709                  Taufiq Haryo   \n",
       "1  6f396237-ea62-48d0-b0d8-ae0cce33a1f0  Mahija Parama Ascarya Supala   \n",
       "2  34cd0d3b-6a6c-4191-8da7-cd57fdd6b2ee               Kayana Naranaya   \n",
       "3  2b4c580f-0e64-4967-8d82-d63fd237d42f            Widi Yana Official   \n",
       "4  6aaefb0e-32b3-431f-bbf6-5527b9525761                 Taufik Ismail   \n",
       "\n",
       "                                           userImage  \\\n",
       "0  https://play-lh.googleusercontent.com/a-/AD_cM...   \n",
       "1  https://play-lh.googleusercontent.com/a-/AD_cM...   \n",
       "2  https://play-lh.googleusercontent.com/a-/AD_cM...   \n",
       "3  https://play-lh.googleusercontent.com/a-/AD_cM...   \n",
       "4  https://play-lh.googleusercontent.com/a-/AD_cM...   \n",
       "\n",
       "                                             content  score  thumbsUpCount  \\\n",
       "0  Baru tau ternyata aplikasinya dah berubah, dan...      1             15   \n",
       "1  Sejauh yang saya rasakan saat ini, saya merasa...      3              0   \n",
       "2  makin nyesel update, cmn mau cek jadwal krl, u...      1              6   \n",
       "3  Bingung deh sama apk baru ini. Udh pesen tiket...      1              0   \n",
       "4  Pelanggan diusahakan harus hati-hati dalam pem...      1              3   \n",
       "\n",
       "  reviewCreatedVersion                   at  \\\n",
       "0                6.0.0  2023-07-16 20:35:34   \n",
       "1                5.1.4  2023-07-17 18:31:53   \n",
       "2                6.0.0  2023-07-14 14:59:13   \n",
       "3                6.0.0  2023-07-17 14:03:18   \n",
       "4                5.1.4  2023-07-10 15:06:29   \n",
       "\n",
       "                                        replyContent            repliedAt  \\\n",
       "0  Mohon maaf untuk kendalanya. Silahkan coba unt...  2023-07-17 10:22:16   \n",
       "1  Mohon maaf untuk kendalanya. Terkait kendala t...  2023-07-18 10:39:19   \n",
       "2  halo kak, terima kasih masukannya, akan kami p...  2023-07-15 15:20:28   \n",
       "3  Mohon maaf atas kendalannya. Untuk menangani k...  2023-07-17 15:38:54   \n",
       "4  Hi Kak, Mohon maaf atas kendalanya, untuk kend...  2023-07-10 16:53:39   \n",
       "\n",
       "  appVersion  \n",
       "0      6.0.0  \n",
       "1      5.1.4  \n",
       "2      6.0.0  \n",
       "3      6.0.0  \n",
       "4      5.1.4  "
      ]
     },
     "execution_count": 49,
     "metadata": {},
     "output_type": "execute_result"
    }
   ],
   "source": [
    "import pandas as pd\n",
    "df = pd.read_csv('tm_ulasan_tiket_kai_access.csv')\n",
    "\n",
    "df_total = len(df)\n",
    "print(\"total data: \", df_total)\n",
    "df.head()"
   ]
  },
  {
   "cell_type": "code",
   "execution_count": 50,
   "id": "4f25268f",
   "metadata": {},
   "outputs": [],
   "source": [
    "# memisahkan kolom content sebagai fitur\n",
    "df = df.drop(columns=df.columns.difference(['content']))"
   ]
  },
  {
   "cell_type": "code",
   "execution_count": 51,
   "id": "8b19cff9",
   "metadata": {},
   "outputs": [],
   "source": [
    "# cek fitur yang kosong\n",
    "value_null = df.content.isnull().sum()\n",
    "# cek fitur yang memiliki kata 'tiket'\n",
    "value_counts = df.content.str.contains('tiket', case=False).sum()"
   ]
  },
  {
   "cell_type": "code",
   "execution_count": 52,
   "id": "e336bebd",
   "metadata": {
    "tags": []
   },
   "outputs": [
    {
     "name": "stdout",
     "output_type": "stream",
     "text": [
      "cek data null :  0\n",
      "jumlah ulasan/content yang memiliki kata 'tiket' :  6000\n",
      "total data: 6000\n",
      "kolom: 1 | Index(['content'], dtype='object')\n"
     ]
    },
    {
     "data": {
      "text/html": [
       "<div>\n",
       "<style scoped>\n",
       "    .dataframe tbody tr th:only-of-type {\n",
       "        vertical-align: middle;\n",
       "    }\n",
       "\n",
       "    .dataframe tbody tr th {\n",
       "        vertical-align: top;\n",
       "    }\n",
       "\n",
       "    .dataframe thead th {\n",
       "        text-align: right;\n",
       "    }\n",
       "</style>\n",
       "<table border=\"1\" class=\"dataframe\">\n",
       "  <thead>\n",
       "    <tr style=\"text-align: right;\">\n",
       "      <th></th>\n",
       "      <th>content</th>\n",
       "    </tr>\n",
       "  </thead>\n",
       "  <tbody>\n",
       "    <tr>\n",
       "      <th>0</th>\n",
       "      <td>Baru tau ternyata aplikasinya dah berubah, dan...</td>\n",
       "    </tr>\n",
       "    <tr>\n",
       "      <th>1</th>\n",
       "      <td>Sejauh yang saya rasakan saat ini, saya merasa...</td>\n",
       "    </tr>\n",
       "    <tr>\n",
       "      <th>2</th>\n",
       "      <td>makin nyesel update, cmn mau cek jadwal krl, u...</td>\n",
       "    </tr>\n",
       "    <tr>\n",
       "      <th>3</th>\n",
       "      <td>Bingung deh sama apk baru ini. Udh pesen tiket...</td>\n",
       "    </tr>\n",
       "    <tr>\n",
       "      <th>4</th>\n",
       "      <td>Pelanggan diusahakan harus hati-hati dalam pem...</td>\n",
       "    </tr>\n",
       "  </tbody>\n",
       "</table>\n",
       "</div>"
      ],
      "text/plain": [
       "                                             content\n",
       "0  Baru tau ternyata aplikasinya dah berubah, dan...\n",
       "1  Sejauh yang saya rasakan saat ini, saya merasa...\n",
       "2  makin nyesel update, cmn mau cek jadwal krl, u...\n",
       "3  Bingung deh sama apk baru ini. Udh pesen tiket...\n",
       "4  Pelanggan diusahakan harus hati-hati dalam pem..."
      ]
     },
     "execution_count": 52,
     "metadata": {},
     "output_type": "execute_result"
    }
   ],
   "source": [
    "print(\"cek data null : \", value_null)\n",
    "print(\"jumlah ulasan/content yang memiliki kata 'tiket' : \", value_counts)\n",
    "\n",
    "print(\"total data:\", len(df))\n",
    "print(\"kolom:\", len(df.columns),\"|\", df.columns)\n",
    "df.head()"
   ]
  },
  {
   "cell_type": "markdown",
   "id": "2a18e11e",
   "metadata": {
    "tags": []
   },
   "source": [
    "## 2. Data Cleaning :"
   ]
  },
  {
   "cell_type": "markdown",
   "id": "d43d6b41",
   "metadata": {
    "tags": []
   },
   "source": [
    "### 2.1 Casefolding"
   ]
  },
  {
   "cell_type": "markdown",
   "id": "bd24bb46",
   "metadata": {},
   "source": [
    "<i>Proses melakukan konversi teks. Mengubah huruf besar menjadi huruf kecil, dan mengubah huruf aksen ke bentuk tanpa aksen yang setara (mis: huruf é menjadi e, huruf E menjadi e)."
   ]
  },
  {
   "cell_type": "code",
   "execution_count": 53,
   "id": "6a29eeba",
   "metadata": {},
   "outputs": [],
   "source": [
    "from unidecode import unidecode\n",
    "\n",
    "def casefolding(text):\n",
    "    text = text.lower()\n",
    "    text = unidecode(text)\n",
    "    \n",
    "    return text\n",
    "\n",
    "df['cleaning'] = df['content'].apply(casefolding)"
   ]
  },
  {
   "cell_type": "code",
   "execution_count": 54,
   "id": "f1371ebd",
   "metadata": {
    "tags": []
   },
   "outputs": [
    {
     "data": {
      "text/html": [
       "<div>\n",
       "<style scoped>\n",
       "    .dataframe tbody tr th:only-of-type {\n",
       "        vertical-align: middle;\n",
       "    }\n",
       "\n",
       "    .dataframe tbody tr th {\n",
       "        vertical-align: top;\n",
       "    }\n",
       "\n",
       "    .dataframe thead th {\n",
       "        text-align: right;\n",
       "    }\n",
       "</style>\n",
       "<table border=\"1\" class=\"dataframe\">\n",
       "  <thead>\n",
       "    <tr style=\"text-align: right;\">\n",
       "      <th></th>\n",
       "      <th>cleaning</th>\n",
       "    </tr>\n",
       "  </thead>\n",
       "  <tbody>\n",
       "    <tr>\n",
       "      <th>0</th>\n",
       "      <td>baru tau ternyata aplikasinya dah berubah, dan...</td>\n",
       "    </tr>\n",
       "    <tr>\n",
       "      <th>1</th>\n",
       "      <td>sejauh yang saya rasakan saat ini, saya merasa...</td>\n",
       "    </tr>\n",
       "    <tr>\n",
       "      <th>2</th>\n",
       "      <td>makin nyesel update, cmn mau cek jadwal krl, u...</td>\n",
       "    </tr>\n",
       "    <tr>\n",
       "      <th>3</th>\n",
       "      <td>bingung deh sama apk baru ini. udh pesen tiket...</td>\n",
       "    </tr>\n",
       "    <tr>\n",
       "      <th>4</th>\n",
       "      <td>pelanggan diusahakan harus hati-hati dalam pem...</td>\n",
       "    </tr>\n",
       "  </tbody>\n",
       "</table>\n",
       "</div>"
      ],
      "text/plain": [
       "                                            cleaning\n",
       "0  baru tau ternyata aplikasinya dah berubah, dan...\n",
       "1  sejauh yang saya rasakan saat ini, saya merasa...\n",
       "2  makin nyesel update, cmn mau cek jadwal krl, u...\n",
       "3  bingung deh sama apk baru ini. udh pesen tiket...\n",
       "4  pelanggan diusahakan harus hati-hati dalam pem..."
      ]
     },
     "execution_count": 54,
     "metadata": {},
     "output_type": "execute_result"
    }
   ],
   "source": [
    "df[['cleaning']].head()"
   ]
  },
  {
   "cell_type": "markdown",
   "id": "9ef4e1ec",
   "metadata": {
    "tags": []
   },
   "source": [
    "### 2.2 Cleansing"
   ]
  },
  {
   "cell_type": "markdown",
   "id": "070fc123",
   "metadata": {},
   "source": [
    "<i>Proses membersihkan atau membuang noise (angka, tanda baca, emoji, multi spasi, dan baris enter)"
   ]
  },
  {
   "cell_type": "code",
   "execution_count": 55,
   "id": "6fcb8b26",
   "metadata": {},
   "outputs": [],
   "source": [
    "import re\n",
    "\n",
    "def cleansing(text):\n",
    "    \n",
    "    # menghapus karakter yang bukan huruf, angka, atau spasi\n",
    "    text = re.sub(r'[^\\w\\s]', ' ', text)\n",
    "    # menghapus angka menjadi satu spasi\n",
    "    text = re.sub(r'\\d+', '', text)\n",
    "    # menghapus multi-spasi menjadi satu spasi\n",
    "    text = re.sub(r'\\s+', ' ', text).strip()\n",
    "    \n",
    "    return text\n",
    "\n",
    "df['cleaning'] = df['cleaning'].apply(cleansing)"
   ]
  },
  {
   "cell_type": "code",
   "execution_count": 56,
   "id": "fe4b9b95",
   "metadata": {},
   "outputs": [
    {
     "data": {
      "text/html": [
       "<div>\n",
       "<style scoped>\n",
       "    .dataframe tbody tr th:only-of-type {\n",
       "        vertical-align: middle;\n",
       "    }\n",
       "\n",
       "    .dataframe tbody tr th {\n",
       "        vertical-align: top;\n",
       "    }\n",
       "\n",
       "    .dataframe thead th {\n",
       "        text-align: right;\n",
       "    }\n",
       "</style>\n",
       "<table border=\"1\" class=\"dataframe\">\n",
       "  <thead>\n",
       "    <tr style=\"text-align: right;\">\n",
       "      <th></th>\n",
       "      <th>cleaning</th>\n",
       "    </tr>\n",
       "  </thead>\n",
       "  <tbody>\n",
       "    <tr>\n",
       "      <th>0</th>\n",
       "      <td>baru tau ternyata aplikasinya dah berubah dan ...</td>\n",
       "    </tr>\n",
       "    <tr>\n",
       "      <th>1</th>\n",
       "      <td>sejauh yang saya rasakan saat ini saya merasa ...</td>\n",
       "    </tr>\n",
       "    <tr>\n",
       "      <th>2</th>\n",
       "      <td>makin nyesel update cmn mau cek jadwal krl uda...</td>\n",
       "    </tr>\n",
       "    <tr>\n",
       "      <th>3</th>\n",
       "      <td>bingung deh sama apk baru ini udh pesen tikett...</td>\n",
       "    </tr>\n",
       "    <tr>\n",
       "      <th>4</th>\n",
       "      <td>pelanggan diusahakan harus hati hati dalam pem...</td>\n",
       "    </tr>\n",
       "  </tbody>\n",
       "</table>\n",
       "</div>"
      ],
      "text/plain": [
       "                                            cleaning\n",
       "0  baru tau ternyata aplikasinya dah berubah dan ...\n",
       "1  sejauh yang saya rasakan saat ini saya merasa ...\n",
       "2  makin nyesel update cmn mau cek jadwal krl uda...\n",
       "3  bingung deh sama apk baru ini udh pesen tikett...\n",
       "4  pelanggan diusahakan harus hati hati dalam pem..."
      ]
     },
     "execution_count": 56,
     "metadata": {},
     "output_type": "execute_result"
    }
   ],
   "source": [
    "df[['cleaning']].head()"
   ]
  },
  {
   "cell_type": "code",
   "execution_count": 57,
   "id": "66a751c2",
   "metadata": {
    "scrolled": true
   },
   "outputs": [
    {
     "data": {
      "text/html": [
       "<div>\n",
       "<style scoped>\n",
       "    .dataframe tbody tr th:only-of-type {\n",
       "        vertical-align: middle;\n",
       "    }\n",
       "\n",
       "    .dataframe tbody tr th {\n",
       "        vertical-align: top;\n",
       "    }\n",
       "\n",
       "    .dataframe thead th {\n",
       "        text-align: right;\n",
       "    }\n",
       "</style>\n",
       "<table border=\"1\" class=\"dataframe\">\n",
       "  <thead>\n",
       "    <tr style=\"text-align: right;\">\n",
       "      <th></th>\n",
       "      <th>content</th>\n",
       "      <th>cleaning</th>\n",
       "    </tr>\n",
       "  </thead>\n",
       "  <tbody>\n",
       "    <tr>\n",
       "      <th>0</th>\n",
       "      <td>Baru tau ternyata aplikasinya dah berubah, dan...</td>\n",
       "      <td>baru tau ternyata aplikasinya dah berubah dan ...</td>\n",
       "    </tr>\n",
       "    <tr>\n",
       "      <th>1</th>\n",
       "      <td>Sejauh yang saya rasakan saat ini, saya merasa...</td>\n",
       "      <td>sejauh yang saya rasakan saat ini saya merasa ...</td>\n",
       "    </tr>\n",
       "    <tr>\n",
       "      <th>2</th>\n",
       "      <td>makin nyesel update, cmn mau cek jadwal krl, u...</td>\n",
       "      <td>makin nyesel update cmn mau cek jadwal krl uda...</td>\n",
       "    </tr>\n",
       "    <tr>\n",
       "      <th>3</th>\n",
       "      <td>Bingung deh sama apk baru ini. Udh pesen tiket...</td>\n",
       "      <td>bingung deh sama apk baru ini udh pesen tikett...</td>\n",
       "    </tr>\n",
       "    <tr>\n",
       "      <th>4</th>\n",
       "      <td>Pelanggan diusahakan harus hati-hati dalam pem...</td>\n",
       "      <td>pelanggan diusahakan harus hati hati dalam pem...</td>\n",
       "    </tr>\n",
       "  </tbody>\n",
       "</table>\n",
       "</div>"
      ],
      "text/plain": [
       "                                             content  \\\n",
       "0  Baru tau ternyata aplikasinya dah berubah, dan...   \n",
       "1  Sejauh yang saya rasakan saat ini, saya merasa...   \n",
       "2  makin nyesel update, cmn mau cek jadwal krl, u...   \n",
       "3  Bingung deh sama apk baru ini. Udh pesen tiket...   \n",
       "4  Pelanggan diusahakan harus hati-hati dalam pem...   \n",
       "\n",
       "                                            cleaning  \n",
       "0  baru tau ternyata aplikasinya dah berubah dan ...  \n",
       "1  sejauh yang saya rasakan saat ini saya merasa ...  \n",
       "2  makin nyesel update cmn mau cek jadwal krl uda...  \n",
       "3  bingung deh sama apk baru ini udh pesen tikett...  \n",
       "4  pelanggan diusahakan harus hati hati dalam pem...  "
      ]
     },
     "execution_count": 57,
     "metadata": {},
     "output_type": "execute_result"
    }
   ],
   "source": [
    "# hasil cleaning\n",
    "df.head(5)"
   ]
  },
  {
   "cell_type": "markdown",
   "id": "b4140fe3",
   "metadata": {
    "tags": []
   },
   "source": [
    "## 3. Data Normalize :"
   ]
  },
  {
   "cell_type": "markdown",
   "id": "4bff2972",
   "metadata": {
    "tags": []
   },
   "source": [
    "### 3.1 Stemming"
   ]
  },
  {
   "cell_type": "markdown",
   "id": "a95805b8",
   "metadata": {},
   "source": [
    "<i>Proses menemukan kata dasar dengan menghilangkan semua imbuhan yang menyatu pada kata. Misalnya kata \"diperbaiki\" akan diubah menjadi \"baik\"."
   ]
  },
  {
   "cell_type": "code",
   "execution_count": 58,
   "id": "5ed27965",
   "metadata": {},
   "outputs": [],
   "source": [
    "from Sastrawi.Stemmer.StemmerFactory import StemmerFactory\n",
    "\n",
    "factory = StemmerFactory()\n",
    "stemmer = factory.create_stemmer()\n",
    "    \n",
    "def stemming(text):\n",
    "    \n",
    "    stemmed_text = stemmer.stem(text)\n",
    "    return stemmed_text\n",
    "\n",
    "df['normalize'] = df['cleaning'].apply(stemming)"
   ]
  },
  {
   "cell_type": "code",
   "execution_count": 59,
   "id": "f2aa991f-5bc5-439a-b2ba-f1ddecbf2c5f",
   "metadata": {
    "tags": []
   },
   "outputs": [
    {
     "data": {
      "text/html": [
       "<div>\n",
       "<style scoped>\n",
       "    .dataframe tbody tr th:only-of-type {\n",
       "        vertical-align: middle;\n",
       "    }\n",
       "\n",
       "    .dataframe tbody tr th {\n",
       "        vertical-align: top;\n",
       "    }\n",
       "\n",
       "    .dataframe thead th {\n",
       "        text-align: right;\n",
       "    }\n",
       "</style>\n",
       "<table border=\"1\" class=\"dataframe\">\n",
       "  <thead>\n",
       "    <tr style=\"text-align: right;\">\n",
       "      <th></th>\n",
       "      <th>normalize</th>\n",
       "    </tr>\n",
       "  </thead>\n",
       "  <tbody>\n",
       "    <tr>\n",
       "      <th>0</th>\n",
       "      <td>baru tau nyata aplikasi dah ubah dan hasil mal...</td>\n",
       "    </tr>\n",
       "    <tr>\n",
       "      <th>1</th>\n",
       "      <td>jauh yang saya rasa saat ini saya rasa kai acc...</td>\n",
       "    </tr>\n",
       "    <tr>\n",
       "      <th>2</th>\n",
       "      <td>makin nyesel update cmn mau cek jadwal krl uda...</td>\n",
       "    </tr>\n",
       "    <tr>\n",
       "      <th>3</th>\n",
       "      <td>bingung deh sama apk baru ini udh sen tikett o...</td>\n",
       "    </tr>\n",
       "    <tr>\n",
       "      <th>4</th>\n",
       "      <td>langgan usaha harus hati hati dalam mesan haru...</td>\n",
       "    </tr>\n",
       "  </tbody>\n",
       "</table>\n",
       "</div>"
      ],
      "text/plain": [
       "                                           normalize\n",
       "0  baru tau nyata aplikasi dah ubah dan hasil mal...\n",
       "1  jauh yang saya rasa saat ini saya rasa kai acc...\n",
       "2  makin nyesel update cmn mau cek jadwal krl uda...\n",
       "3  bingung deh sama apk baru ini udh sen tikett o...\n",
       "4  langgan usaha harus hati hati dalam mesan haru..."
      ]
     },
     "execution_count": 59,
     "metadata": {},
     "output_type": "execute_result"
    }
   ],
   "source": [
    "df[['normalize']].head()"
   ]
  },
  {
   "cell_type": "markdown",
   "id": "daf18706",
   "metadata": {
    "tags": []
   },
   "source": [
    "### 3.2 Slang Word Normalization"
   ]
  },
  {
   "cell_type": "markdown",
   "id": "3ecc5957",
   "metadata": {},
   "source": [
    "<i>Proses mengubah kata non-baku (slang) menjadi kata baku."
   ]
  },
  {
   "cell_type": "code",
   "execution_count": 60,
   "id": "abb48856",
   "metadata": {},
   "outputs": [
    {
     "data": {
      "text/html": [
       "<div>\n",
       "<style scoped>\n",
       "    .dataframe tbody tr th:only-of-type {\n",
       "        vertical-align: middle;\n",
       "    }\n",
       "\n",
       "    .dataframe tbody tr th {\n",
       "        vertical-align: top;\n",
       "    }\n",
       "\n",
       "    .dataframe thead th {\n",
       "        text-align: right;\n",
       "    }\n",
       "</style>\n",
       "<table border=\"1\" class=\"dataframe\">\n",
       "  <thead>\n",
       "    <tr style=\"text-align: right;\">\n",
       "      <th></th>\n",
       "      <th>slang</th>\n",
       "      <th>formal</th>\n",
       "    </tr>\n",
       "  </thead>\n",
       "  <tbody>\n",
       "    <tr>\n",
       "      <th>0</th>\n",
       "      <td>7an</td>\n",
       "      <td>tujuan</td>\n",
       "    </tr>\n",
       "    <tr>\n",
       "      <th>1</th>\n",
       "      <td>@</td>\n",
       "      <td>di</td>\n",
       "    </tr>\n",
       "    <tr>\n",
       "      <th>2</th>\n",
       "      <td>ababil</td>\n",
       "      <td>abg labil</td>\n",
       "    </tr>\n",
       "    <tr>\n",
       "      <th>3</th>\n",
       "      <td>abis</td>\n",
       "      <td>habis</td>\n",
       "    </tr>\n",
       "    <tr>\n",
       "      <th>4</th>\n",
       "      <td>acc</td>\n",
       "      <td>terima</td>\n",
       "    </tr>\n",
       "  </tbody>\n",
       "</table>\n",
       "</div>"
      ],
      "text/plain": [
       "    slang     formal\n",
       "0     7an     tujuan\n",
       "1       @         di\n",
       "2  ababil  abg labil\n",
       "3    abis      habis\n",
       "4     acc     terima"
      ]
     },
     "execution_count": 60,
     "metadata": {},
     "output_type": "execute_result"
    }
   ],
   "source": [
    "kbba_dictionary = pd.read_csv(\n",
    "    'https://raw.githubusercontent.com/insomniagung/kamus_kbba/main/kbba.txt', \n",
    "    delimiter='\\t', names=['slang', 'formal'], header=None, encoding='utf-8')\n",
    "\n",
    "slang_dict = dict(zip(kbba_dictionary['slang'], kbba_dictionary['formal']))\n",
    "kbba_dictionary.iloc[0:5]"
   ]
  },
  {
   "cell_type": "code",
   "execution_count": 61,
   "id": "6f28311a",
   "metadata": {},
   "outputs": [],
   "source": [
    "def convert_slangword(text):\n",
    "    words = text.split()\n",
    "    \n",
    "    normalized_words = [slang_dict[word] if word in slang_dict else word for word in words]\n",
    "    normalized_text = ' '.join(normalized_words)\n",
    "    return normalized_text\n",
    "\n",
    "df['normalize'] = df['normalize'].apply(convert_slangword)"
   ]
  },
  {
   "cell_type": "code",
   "execution_count": 62,
   "id": "d7411c72",
   "metadata": {},
   "outputs": [
    {
     "data": {
      "text/html": [
       "<div>\n",
       "<style scoped>\n",
       "    .dataframe tbody tr th:only-of-type {\n",
       "        vertical-align: middle;\n",
       "    }\n",
       "\n",
       "    .dataframe tbody tr th {\n",
       "        vertical-align: top;\n",
       "    }\n",
       "\n",
       "    .dataframe thead th {\n",
       "        text-align: right;\n",
       "    }\n",
       "</style>\n",
       "<table border=\"1\" class=\"dataframe\">\n",
       "  <thead>\n",
       "    <tr style=\"text-align: right;\">\n",
       "      <th></th>\n",
       "      <th>normalize</th>\n",
       "    </tr>\n",
       "  </thead>\n",
       "  <tbody>\n",
       "    <tr>\n",
       "      <th>0</th>\n",
       "      <td>baru tahu nyata aplikasi deh ubah dan hasil ba...</td>\n",
       "    </tr>\n",
       "    <tr>\n",
       "      <th>1</th>\n",
       "      <td>jauh yang saya rasa saat ini saya rasa kai acc...</td>\n",
       "    </tr>\n",
       "    <tr>\n",
       "      <th>2</th>\n",
       "      <td>makin nyesel perbarui cmn mau cek jadwal krl s...</td>\n",
       "    </tr>\n",
       "    <tr>\n",
       "      <th>3</th>\n",
       "      <td>bingung deh sama aplikasi baru ini sudah pesan...</td>\n",
       "    </tr>\n",
       "    <tr>\n",
       "      <th>4</th>\n",
       "      <td>langgan usaha harus hati hati dalam mesan haru...</td>\n",
       "    </tr>\n",
       "  </tbody>\n",
       "</table>\n",
       "</div>"
      ],
      "text/plain": [
       "                                           normalize\n",
       "0  baru tahu nyata aplikasi deh ubah dan hasil ba...\n",
       "1  jauh yang saya rasa saat ini saya rasa kai acc...\n",
       "2  makin nyesel perbarui cmn mau cek jadwal krl s...\n",
       "3  bingung deh sama aplikasi baru ini sudah pesan...\n",
       "4  langgan usaha harus hati hati dalam mesan haru..."
      ]
     },
     "execution_count": 62,
     "metadata": {},
     "output_type": "execute_result"
    }
   ],
   "source": [
    "df[['normalize']].head()"
   ]
  },
  {
   "cell_type": "code",
   "execution_count": 63,
   "id": "45d1ebc1",
   "metadata": {},
   "outputs": [
    {
     "data": {
      "text/html": [
       "<div>\n",
       "<style scoped>\n",
       "    .dataframe tbody tr th:only-of-type {\n",
       "        vertical-align: middle;\n",
       "    }\n",
       "\n",
       "    .dataframe tbody tr th {\n",
       "        vertical-align: top;\n",
       "    }\n",
       "\n",
       "    .dataframe thead th {\n",
       "        text-align: right;\n",
       "    }\n",
       "</style>\n",
       "<table border=\"1\" class=\"dataframe\">\n",
       "  <thead>\n",
       "    <tr style=\"text-align: right;\">\n",
       "      <th></th>\n",
       "      <th>content</th>\n",
       "      <th>cleaning</th>\n",
       "      <th>normalize</th>\n",
       "    </tr>\n",
       "  </thead>\n",
       "  <tbody>\n",
       "    <tr>\n",
       "      <th>0</th>\n",
       "      <td>Baru tau ternyata aplikasinya dah berubah, dan...</td>\n",
       "      <td>baru tau ternyata aplikasinya dah berubah dan ...</td>\n",
       "      <td>baru tahu nyata aplikasi deh ubah dan hasil ba...</td>\n",
       "    </tr>\n",
       "    <tr>\n",
       "      <th>1</th>\n",
       "      <td>Sejauh yang saya rasakan saat ini, saya merasa...</td>\n",
       "      <td>sejauh yang saya rasakan saat ini saya merasa ...</td>\n",
       "      <td>jauh yang saya rasa saat ini saya rasa kai acc...</td>\n",
       "    </tr>\n",
       "    <tr>\n",
       "      <th>2</th>\n",
       "      <td>makin nyesel update, cmn mau cek jadwal krl, u...</td>\n",
       "      <td>makin nyesel update cmn mau cek jadwal krl uda...</td>\n",
       "      <td>makin nyesel perbarui cmn mau cek jadwal krl s...</td>\n",
       "    </tr>\n",
       "    <tr>\n",
       "      <th>3</th>\n",
       "      <td>Bingung deh sama apk baru ini. Udh pesen tiket...</td>\n",
       "      <td>bingung deh sama apk baru ini udh pesen tikett...</td>\n",
       "      <td>bingung deh sama aplikasi baru ini sudah pesan...</td>\n",
       "    </tr>\n",
       "    <tr>\n",
       "      <th>4</th>\n",
       "      <td>Pelanggan diusahakan harus hati-hati dalam pem...</td>\n",
       "      <td>pelanggan diusahakan harus hati hati dalam pem...</td>\n",
       "      <td>langgan usaha harus hati hati dalam mesan haru...</td>\n",
       "    </tr>\n",
       "    <tr>\n",
       "      <th>5</th>\n",
       "      <td>Lemot. Login lemot, loading tiket lemotnya min...</td>\n",
       "      <td>lemot login lemot loading tiket lemotnya minta...</td>\n",
       "      <td>lambat login lambat loading tiket lambat minta...</td>\n",
       "    </tr>\n",
       "    <tr>\n",
       "      <th>6</th>\n",
       "      <td>Sangat buruk dan merugikan!!!!! Saya sudah bay...</td>\n",
       "      <td>sangat buruk dan merugikan saya sudah bayar ti...</td>\n",
       "      <td>sangat buruk dan rugi saya sudah bayar tiket l...</td>\n",
       "    </tr>\n",
       "    <tr>\n",
       "      <th>7</th>\n",
       "      <td>Setelah diupdate, tampilan harga tiket goshow ...</td>\n",
       "      <td>setelah diupdate tampilan harga tiket goshow t...</td>\n",
       "      <td>telah diperbarui tampil harga tiket goshow tid...</td>\n",
       "    </tr>\n",
       "    <tr>\n",
       "      <th>8</th>\n",
       "      <td>Mending kaya versi lama lagi deh .lemot banget...</td>\n",
       "      <td>mending kaya versi lama lagi deh lemot banget ...</td>\n",
       "      <td>lebih baik kaya versi lama lagi deh lambat ban...</td>\n",
       "    </tr>\n",
       "    <tr>\n",
       "      <th>9</th>\n",
       "      <td>Sumpah lemot banget ini aplikasi semenjak di u...</td>\n",
       "      <td>sumpah lemot banget ini aplikasi semenjak di u...</td>\n",
       "      <td>sumpah lambat banget ini aplikasi semenjak di ...</td>\n",
       "    </tr>\n",
       "    <tr>\n",
       "      <th>10</th>\n",
       "      <td>Saya dr tadi mau login ke aplikasi yg baru ini...</td>\n",
       "      <td>saya dr tadi mau login ke aplikasi yg baru ini...</td>\n",
       "      <td>saya dari tadi mau login ke aplikasi yang baru...</td>\n",
       "    </tr>\n",
       "  </tbody>\n",
       "</table>\n",
       "</div>"
      ],
      "text/plain": [
       "                                              content  \\\n",
       "0   Baru tau ternyata aplikasinya dah berubah, dan...   \n",
       "1   Sejauh yang saya rasakan saat ini, saya merasa...   \n",
       "2   makin nyesel update, cmn mau cek jadwal krl, u...   \n",
       "3   Bingung deh sama apk baru ini. Udh pesen tiket...   \n",
       "4   Pelanggan diusahakan harus hati-hati dalam pem...   \n",
       "5   Lemot. Login lemot, loading tiket lemotnya min...   \n",
       "6   Sangat buruk dan merugikan!!!!! Saya sudah bay...   \n",
       "7   Setelah diupdate, tampilan harga tiket goshow ...   \n",
       "8   Mending kaya versi lama lagi deh .lemot banget...   \n",
       "9   Sumpah lemot banget ini aplikasi semenjak di u...   \n",
       "10  Saya dr tadi mau login ke aplikasi yg baru ini...   \n",
       "\n",
       "                                             cleaning  \\\n",
       "0   baru tau ternyata aplikasinya dah berubah dan ...   \n",
       "1   sejauh yang saya rasakan saat ini saya merasa ...   \n",
       "2   makin nyesel update cmn mau cek jadwal krl uda...   \n",
       "3   bingung deh sama apk baru ini udh pesen tikett...   \n",
       "4   pelanggan diusahakan harus hati hati dalam pem...   \n",
       "5   lemot login lemot loading tiket lemotnya minta...   \n",
       "6   sangat buruk dan merugikan saya sudah bayar ti...   \n",
       "7   setelah diupdate tampilan harga tiket goshow t...   \n",
       "8   mending kaya versi lama lagi deh lemot banget ...   \n",
       "9   sumpah lemot banget ini aplikasi semenjak di u...   \n",
       "10  saya dr tadi mau login ke aplikasi yg baru ini...   \n",
       "\n",
       "                                            normalize  \n",
       "0   baru tahu nyata aplikasi deh ubah dan hasil ba...  \n",
       "1   jauh yang saya rasa saat ini saya rasa kai acc...  \n",
       "2   makin nyesel perbarui cmn mau cek jadwal krl s...  \n",
       "3   bingung deh sama aplikasi baru ini sudah pesan...  \n",
       "4   langgan usaha harus hati hati dalam mesan haru...  \n",
       "5   lambat login lambat loading tiket lambat minta...  \n",
       "6   sangat buruk dan rugi saya sudah bayar tiket l...  \n",
       "7   telah diperbarui tampil harga tiket goshow tid...  \n",
       "8   lebih baik kaya versi lama lagi deh lambat ban...  \n",
       "9   sumpah lambat banget ini aplikasi semenjak di ...  \n",
       "10  saya dari tadi mau login ke aplikasi yang baru...  "
      ]
     },
     "execution_count": 63,
     "metadata": {},
     "output_type": "execute_result"
    }
   ],
   "source": [
    "# hasil normalize\n",
    "df.head(11)"
   ]
  },
  {
   "cell_type": "markdown",
   "id": "6daaae0b",
   "metadata": {
    "tags": []
   },
   "source": [
    "## 4. Words Removal :"
   ]
  },
  {
   "cell_type": "markdown",
   "id": "35a3b8bb",
   "metadata": {
    "tags": []
   },
   "source": [
    "### 4.1 Stopword Removal"
   ]
  },
  {
   "cell_type": "markdown",
   "id": "937a2270",
   "metadata": {},
   "source": [
    "<i>Proses menghapus seluruh kata yang dianggap tidak memiliki makna. Seperti kata hubung \"yang\", \"di\", \"dan\", \"dari\"."
   ]
  },
  {
   "cell_type": "code",
   "execution_count": 64,
   "id": "14826b83",
   "metadata": {},
   "outputs": [],
   "source": [
    "from nlp_id.stopword import StopWord\n",
    "\n",
    "def remove_stopword(text):\n",
    "    stopword = StopWord()\n",
    "    text = stopword.remove_stopword(text)\n",
    "    return text\n",
    "\n",
    "df['removal'] = df['normalize'].apply(remove_stopword)"
   ]
  },
  {
   "cell_type": "code",
   "execution_count": 65,
   "id": "afdd69ab",
   "metadata": {},
   "outputs": [
    {
     "data": {
      "text/html": [
       "<div>\n",
       "<style scoped>\n",
       "    .dataframe tbody tr th:only-of-type {\n",
       "        vertical-align: middle;\n",
       "    }\n",
       "\n",
       "    .dataframe tbody tr th {\n",
       "        vertical-align: top;\n",
       "    }\n",
       "\n",
       "    .dataframe thead th {\n",
       "        text-align: right;\n",
       "    }\n",
       "</style>\n",
       "<table border=\"1\" class=\"dataframe\">\n",
       "  <thead>\n",
       "    <tr style=\"text-align: right;\">\n",
       "      <th></th>\n",
       "      <th>removal</th>\n",
       "    </tr>\n",
       "  </thead>\n",
       "  <tbody>\n",
       "    <tr>\n",
       "      <th>0</th>\n",
       "      <td>nyata aplikasi deh ubah hasil bikin loading la...</td>\n",
       "    </tr>\n",
       "    <tr>\n",
       "      <th>1</th>\n",
       "      <td>kai acces muat halaman cari tiket bayar tiket ...</td>\n",
       "    </tr>\n",
       "    <tr>\n",
       "      <th>2</th>\n",
       "      <td>nyesel perbarui cmn cek jadwal krl pilih stasi...</td>\n",
       "    </tr>\n",
       "    <tr>\n",
       "      <th>3</th>\n",
       "      <td>bingung deh aplikasi pesan tikett online riway...</td>\n",
       "    </tr>\n",
       "    <tr>\n",
       "      <th>4</th>\n",
       "      <td>langgan usaha hati hati mesan kayak robot sala...</td>\n",
       "    </tr>\n",
       "  </tbody>\n",
       "</table>\n",
       "</div>"
      ],
      "text/plain": [
       "                                             removal\n",
       "0  nyata aplikasi deh ubah hasil bikin loading la...\n",
       "1  kai acces muat halaman cari tiket bayar tiket ...\n",
       "2  nyesel perbarui cmn cek jadwal krl pilih stasi...\n",
       "3  bingung deh aplikasi pesan tikett online riway...\n",
       "4  langgan usaha hati hati mesan kayak robot sala..."
      ]
     },
     "execution_count": 65,
     "metadata": {},
     "output_type": "execute_result"
    }
   ],
   "source": [
    "df[['removal']].head(5)"
   ]
  },
  {
   "cell_type": "markdown",
   "id": "2c14b627",
   "metadata": {},
   "source": [
    "### 4.2 Unwanted Word Removal "
   ]
  },
  {
   "cell_type": "markdown",
   "id": "f0d5ee59",
   "metadata": {},
   "source": [
    "<i>Proses membuat dictionary kata-kata yang kurang dianggap bermakna secara manual, lalu menghapus kata yang sama dari ulasan. Kata yang dianggap tidak bermakna yaitu seperti nama bulan dalam kalender."
   ]
  },
  {
   "cell_type": "code",
   "execution_count": 66,
   "id": "608bbbc5",
   "metadata": {},
   "outputs": [],
   "source": [
    "from nltk.tokenize import word_tokenize\n",
    "\n",
    "def remove_unwanted_words(text):\n",
    "    unwanted_words = {'jan', 'feb', 'mar', 'apr', 'may', 'jun', 'jul', 'aug', \n",
    "                      'sep', 'oct', 'nov', 'dec', 'januari', 'februari', 'maret', \n",
    "                      'april', 'mei', 'juni', 'juli', 'agustus', 'september', \n",
    "                      'oktober', 'november', 'desember', 'gin'}\n",
    "    \n",
    "    word_tokens = word_tokenize(text)\n",
    "    filtered_words = [word for word in word_tokens if word not in unwanted_words]\n",
    "    filtered_text = ' '.join(filtered_words)\n",
    "    \n",
    "    return filtered_text\n",
    "\n",
    "df['removal'] = df['removal'].apply(remove_unwanted_words)"
   ]
  },
  {
   "cell_type": "code",
   "execution_count": 67,
   "id": "2f61cb3d",
   "metadata": {},
   "outputs": [
    {
     "data": {
      "text/html": [
       "<div>\n",
       "<style scoped>\n",
       "    .dataframe tbody tr th:only-of-type {\n",
       "        vertical-align: middle;\n",
       "    }\n",
       "\n",
       "    .dataframe tbody tr th {\n",
       "        vertical-align: top;\n",
       "    }\n",
       "\n",
       "    .dataframe thead th {\n",
       "        text-align: right;\n",
       "    }\n",
       "</style>\n",
       "<table border=\"1\" class=\"dataframe\">\n",
       "  <thead>\n",
       "    <tr style=\"text-align: right;\">\n",
       "      <th></th>\n",
       "      <th>removal</th>\n",
       "    </tr>\n",
       "  </thead>\n",
       "  <tbody>\n",
       "    <tr>\n",
       "      <th>0</th>\n",
       "      <td>nyata aplikasi deh ubah hasil bikin loading la...</td>\n",
       "    </tr>\n",
       "    <tr>\n",
       "      <th>1</th>\n",
       "      <td>kai acces muat halaman cari tiket bayar tiket ...</td>\n",
       "    </tr>\n",
       "    <tr>\n",
       "      <th>2</th>\n",
       "      <td>nyesel perbarui cmn cek jadwal krl pilih stasi...</td>\n",
       "    </tr>\n",
       "    <tr>\n",
       "      <th>3</th>\n",
       "      <td>bingung deh aplikasi pesan tikett online riway...</td>\n",
       "    </tr>\n",
       "    <tr>\n",
       "      <th>4</th>\n",
       "      <td>langgan usaha hati hati mesan kayak robot sala...</td>\n",
       "    </tr>\n",
       "  </tbody>\n",
       "</table>\n",
       "</div>"
      ],
      "text/plain": [
       "                                             removal\n",
       "0  nyata aplikasi deh ubah hasil bikin loading la...\n",
       "1  kai acces muat halaman cari tiket bayar tiket ...\n",
       "2  nyesel perbarui cmn cek jadwal krl pilih stasi...\n",
       "3  bingung deh aplikasi pesan tikett online riway...\n",
       "4  langgan usaha hati hati mesan kayak robot sala..."
      ]
     },
     "execution_count": 67,
     "metadata": {},
     "output_type": "execute_result"
    }
   ],
   "source": [
    "df[['removal']].head(5)"
   ]
  },
  {
   "cell_type": "markdown",
   "id": "99b071db",
   "metadata": {
    "tags": []
   },
   "source": [
    "### 4.3 Short Word Removal"
   ]
  },
  {
   "cell_type": "markdown",
   "id": "37d21c4b",
   "metadata": {},
   "source": [
    "<i>Proses menghapus kata apapun yang kurang dari 3 karakter. Seperti kata 'di'."
   ]
  },
  {
   "cell_type": "code",
   "execution_count": 68,
   "id": "6dacd75e",
   "metadata": {},
   "outputs": [],
   "source": [
    "def remove_short_words(text):\n",
    "    return ' '.join([word for word in text.split() if len(word) >= 3])\n",
    "\n",
    "df['removal'] = df['removal'].apply(remove_short_words)"
   ]
  },
  {
   "cell_type": "code",
   "execution_count": 69,
   "id": "bed1c622",
   "metadata": {},
   "outputs": [
    {
     "data": {
      "text/html": [
       "<div>\n",
       "<style scoped>\n",
       "    .dataframe tbody tr th:only-of-type {\n",
       "        vertical-align: middle;\n",
       "    }\n",
       "\n",
       "    .dataframe tbody tr th {\n",
       "        vertical-align: top;\n",
       "    }\n",
       "\n",
       "    .dataframe thead th {\n",
       "        text-align: right;\n",
       "    }\n",
       "</style>\n",
       "<table border=\"1\" class=\"dataframe\">\n",
       "  <thead>\n",
       "    <tr style=\"text-align: right;\">\n",
       "      <th></th>\n",
       "      <th>removal</th>\n",
       "    </tr>\n",
       "  </thead>\n",
       "  <tbody>\n",
       "    <tr>\n",
       "      <th>0</th>\n",
       "      <td>nyata aplikasi deh ubah hasil bikin loading la...</td>\n",
       "    </tr>\n",
       "    <tr>\n",
       "      <th>1</th>\n",
       "      <td>kai acces muat halaman cari tiket bayar tiket ...</td>\n",
       "    </tr>\n",
       "    <tr>\n",
       "      <th>2</th>\n",
       "      <td>nyesel perbarui cmn cek jadwal krl pilih stasi...</td>\n",
       "    </tr>\n",
       "    <tr>\n",
       "      <th>3</th>\n",
       "      <td>bingung deh aplikasi pesan tikett online riway...</td>\n",
       "    </tr>\n",
       "    <tr>\n",
       "      <th>4</th>\n",
       "      <td>langgan usaha hati hati mesan kayak robot sala...</td>\n",
       "    </tr>\n",
       "  </tbody>\n",
       "</table>\n",
       "</div>"
      ],
      "text/plain": [
       "                                             removal\n",
       "0  nyata aplikasi deh ubah hasil bikin loading la...\n",
       "1  kai acces muat halaman cari tiket bayar tiket ...\n",
       "2  nyesel perbarui cmn cek jadwal krl pilih stasi...\n",
       "3  bingung deh aplikasi pesan tikett online riway...\n",
       "4  langgan usaha hati hati mesan kayak robot sala..."
      ]
     },
     "execution_count": 69,
     "metadata": {},
     "output_type": "execute_result"
    }
   ],
   "source": [
    "df[['removal']].head(5)"
   ]
  },
  {
   "cell_type": "code",
   "execution_count": 70,
   "id": "2483a353",
   "metadata": {},
   "outputs": [
    {
     "data": {
      "text/html": [
       "<div>\n",
       "<style scoped>\n",
       "    .dataframe tbody tr th:only-of-type {\n",
       "        vertical-align: middle;\n",
       "    }\n",
       "\n",
       "    .dataframe tbody tr th {\n",
       "        vertical-align: top;\n",
       "    }\n",
       "\n",
       "    .dataframe thead th {\n",
       "        text-align: right;\n",
       "    }\n",
       "</style>\n",
       "<table border=\"1\" class=\"dataframe\">\n",
       "  <thead>\n",
       "    <tr style=\"text-align: right;\">\n",
       "      <th></th>\n",
       "      <th>content</th>\n",
       "      <th>cleaning</th>\n",
       "      <th>normalize</th>\n",
       "      <th>removal</th>\n",
       "    </tr>\n",
       "  </thead>\n",
       "  <tbody>\n",
       "    <tr>\n",
       "      <th>0</th>\n",
       "      <td>Baru tau ternyata aplikasinya dah berubah, dan...</td>\n",
       "      <td>baru tau ternyata aplikasinya dah berubah dan ...</td>\n",
       "      <td>baru tahu nyata aplikasi deh ubah dan hasil ba...</td>\n",
       "      <td>nyata aplikasi deh ubah hasil bikin loading la...</td>\n",
       "    </tr>\n",
       "    <tr>\n",
       "      <th>1</th>\n",
       "      <td>Sejauh yang saya rasakan saat ini, saya merasa...</td>\n",
       "      <td>sejauh yang saya rasakan saat ini saya merasa ...</td>\n",
       "      <td>jauh yang saya rasa saat ini saya rasa kai acc...</td>\n",
       "      <td>kai acces muat halaman cari tiket bayar tiket ...</td>\n",
       "    </tr>\n",
       "    <tr>\n",
       "      <th>2</th>\n",
       "      <td>makin nyesel update, cmn mau cek jadwal krl, u...</td>\n",
       "      <td>makin nyesel update cmn mau cek jadwal krl uda...</td>\n",
       "      <td>makin nyesel perbarui cmn mau cek jadwal krl s...</td>\n",
       "      <td>nyesel perbarui cmn cek jadwal krl pilih stasi...</td>\n",
       "    </tr>\n",
       "    <tr>\n",
       "      <th>3</th>\n",
       "      <td>Bingung deh sama apk baru ini. Udh pesen tiket...</td>\n",
       "      <td>bingung deh sama apk baru ini udh pesen tikett...</td>\n",
       "      <td>bingung deh sama aplikasi baru ini sudah pesan...</td>\n",
       "      <td>bingung deh aplikasi pesan tikett online riway...</td>\n",
       "    </tr>\n",
       "    <tr>\n",
       "      <th>4</th>\n",
       "      <td>Pelanggan diusahakan harus hati-hati dalam pem...</td>\n",
       "      <td>pelanggan diusahakan harus hati hati dalam pem...</td>\n",
       "      <td>langgan usaha harus hati hati dalam mesan haru...</td>\n",
       "      <td>langgan usaha hati hati mesan kayak robot sala...</td>\n",
       "    </tr>\n",
       "    <tr>\n",
       "      <th>5</th>\n",
       "      <td>Lemot. Login lemot, loading tiket lemotnya min...</td>\n",
       "      <td>lemot login lemot loading tiket lemotnya minta...</td>\n",
       "      <td>lambat login lambat loading tiket lambat minta...</td>\n",
       "      <td>lambat login lambat loading tiket lambat ampun...</td>\n",
       "    </tr>\n",
       "    <tr>\n",
       "      <th>6</th>\n",
       "      <td>Sangat buruk dan merugikan!!!!! Saya sudah bay...</td>\n",
       "      <td>sangat buruk dan merugikan saya sudah bayar ti...</td>\n",
       "      <td>sangat buruk dan rugi saya sudah bayar tiket l...</td>\n",
       "      <td>buruk rugi bayar tiket kaipay saldo kaipay tik...</td>\n",
       "    </tr>\n",
       "    <tr>\n",
       "      <th>7</th>\n",
       "      <td>Setelah diupdate, tampilan harga tiket goshow ...</td>\n",
       "      <td>setelah diupdate tampilan harga tiket goshow t...</td>\n",
       "      <td>telah diperbarui tampil harga tiket goshow tid...</td>\n",
       "      <td>diperbarui tampil harga tiket goshow muncul pa...</td>\n",
       "    </tr>\n",
       "    <tr>\n",
       "      <th>8</th>\n",
       "      <td>Mending kaya versi lama lagi deh .lemot banget...</td>\n",
       "      <td>mending kaya versi lama lagi deh lemot banget ...</td>\n",
       "      <td>lebih baik kaya versi lama lagi deh lambat ban...</td>\n",
       "      <td>kaya versi deh lambat versi susah perbarui bes...</td>\n",
       "    </tr>\n",
       "    <tr>\n",
       "      <th>9</th>\n",
       "      <td>Sumpah lemot banget ini aplikasi semenjak di u...</td>\n",
       "      <td>sumpah lemot banget ini aplikasi semenjak di u...</td>\n",
       "      <td>sumpah lambat banget ini aplikasi semenjak di ...</td>\n",
       "      <td>sumpah lambat aplikasi perbarui jam menunggu l...</td>\n",
       "    </tr>\n",
       "    <tr>\n",
       "      <th>10</th>\n",
       "      <td>Saya dr tadi mau login ke aplikasi yg baru ini...</td>\n",
       "      <td>saya dr tadi mau login ke aplikasi yg baru ini...</td>\n",
       "      <td>saya dari tadi mau login ke aplikasi yang baru...</td>\n",
       "      <td>login aplikasi menit butuh tiket urgent jam ka...</td>\n",
       "    </tr>\n",
       "  </tbody>\n",
       "</table>\n",
       "</div>"
      ],
      "text/plain": [
       "                                              content  \\\n",
       "0   Baru tau ternyata aplikasinya dah berubah, dan...   \n",
       "1   Sejauh yang saya rasakan saat ini, saya merasa...   \n",
       "2   makin nyesel update, cmn mau cek jadwal krl, u...   \n",
       "3   Bingung deh sama apk baru ini. Udh pesen tiket...   \n",
       "4   Pelanggan diusahakan harus hati-hati dalam pem...   \n",
       "5   Lemot. Login lemot, loading tiket lemotnya min...   \n",
       "6   Sangat buruk dan merugikan!!!!! Saya sudah bay...   \n",
       "7   Setelah diupdate, tampilan harga tiket goshow ...   \n",
       "8   Mending kaya versi lama lagi deh .lemot banget...   \n",
       "9   Sumpah lemot banget ini aplikasi semenjak di u...   \n",
       "10  Saya dr tadi mau login ke aplikasi yg baru ini...   \n",
       "\n",
       "                                             cleaning  \\\n",
       "0   baru tau ternyata aplikasinya dah berubah dan ...   \n",
       "1   sejauh yang saya rasakan saat ini saya merasa ...   \n",
       "2   makin nyesel update cmn mau cek jadwal krl uda...   \n",
       "3   bingung deh sama apk baru ini udh pesen tikett...   \n",
       "4   pelanggan diusahakan harus hati hati dalam pem...   \n",
       "5   lemot login lemot loading tiket lemotnya minta...   \n",
       "6   sangat buruk dan merugikan saya sudah bayar ti...   \n",
       "7   setelah diupdate tampilan harga tiket goshow t...   \n",
       "8   mending kaya versi lama lagi deh lemot banget ...   \n",
       "9   sumpah lemot banget ini aplikasi semenjak di u...   \n",
       "10  saya dr tadi mau login ke aplikasi yg baru ini...   \n",
       "\n",
       "                                            normalize  \\\n",
       "0   baru tahu nyata aplikasi deh ubah dan hasil ba...   \n",
       "1   jauh yang saya rasa saat ini saya rasa kai acc...   \n",
       "2   makin nyesel perbarui cmn mau cek jadwal krl s...   \n",
       "3   bingung deh sama aplikasi baru ini sudah pesan...   \n",
       "4   langgan usaha harus hati hati dalam mesan haru...   \n",
       "5   lambat login lambat loading tiket lambat minta...   \n",
       "6   sangat buruk dan rugi saya sudah bayar tiket l...   \n",
       "7   telah diperbarui tampil harga tiket goshow tid...   \n",
       "8   lebih baik kaya versi lama lagi deh lambat ban...   \n",
       "9   sumpah lambat banget ini aplikasi semenjak di ...   \n",
       "10  saya dari tadi mau login ke aplikasi yang baru...   \n",
       "\n",
       "                                              removal  \n",
       "0   nyata aplikasi deh ubah hasil bikin loading la...  \n",
       "1   kai acces muat halaman cari tiket bayar tiket ...  \n",
       "2   nyesel perbarui cmn cek jadwal krl pilih stasi...  \n",
       "3   bingung deh aplikasi pesan tikett online riway...  \n",
       "4   langgan usaha hati hati mesan kayak robot sala...  \n",
       "5   lambat login lambat loading tiket lambat ampun...  \n",
       "6   buruk rugi bayar tiket kaipay saldo kaipay tik...  \n",
       "7   diperbarui tampil harga tiket goshow muncul pa...  \n",
       "8   kaya versi deh lambat versi susah perbarui bes...  \n",
       "9   sumpah lambat aplikasi perbarui jam menunggu l...  \n",
       "10  login aplikasi menit butuh tiket urgent jam ka...  "
      ]
     },
     "execution_count": 70,
     "metadata": {},
     "output_type": "execute_result"
    }
   ],
   "source": [
    "# hasil words removal\n",
    "df.head(11)"
   ]
  },
  {
   "cell_type": "markdown",
   "id": "68fa5d0c",
   "metadata": {
    "tags": []
   },
   "source": [
    "## 5. Tokenizing  :"
   ]
  },
  {
   "cell_type": "markdown",
   "id": "9e87cdae",
   "metadata": {
    "tags": []
   },
   "source": [
    "### 5.1 Split Words"
   ]
  },
  {
   "cell_type": "markdown",
   "id": "80cdd215",
   "metadata": {},
   "source": [
    "<i>Proses pemisahan kata pada tiap ulasan."
   ]
  },
  {
   "cell_type": "code",
   "execution_count": 71,
   "id": "9d8e3937",
   "metadata": {},
   "outputs": [],
   "source": [
    "from nlp_id.tokenizer import Tokenizer\n",
    "tokenizer = Tokenizer()\n",
    "\n",
    "def tokenizing(text):\n",
    "    return tokenizer.tokenize(text)\n",
    "\n",
    "df['tokenizing'] = df['removal'].apply(tokenizing)"
   ]
  },
  {
   "cell_type": "code",
   "execution_count": 72,
   "id": "7bd025ef",
   "metadata": {},
   "outputs": [
    {
     "data": {
      "text/html": [
       "<div>\n",
       "<style scoped>\n",
       "    .dataframe tbody tr th:only-of-type {\n",
       "        vertical-align: middle;\n",
       "    }\n",
       "\n",
       "    .dataframe tbody tr th {\n",
       "        vertical-align: top;\n",
       "    }\n",
       "\n",
       "    .dataframe thead th {\n",
       "        text-align: right;\n",
       "    }\n",
       "</style>\n",
       "<table border=\"1\" class=\"dataframe\">\n",
       "  <thead>\n",
       "    <tr style=\"text-align: right;\">\n",
       "      <th></th>\n",
       "      <th>tokenizing</th>\n",
       "    </tr>\n",
       "  </thead>\n",
       "  <tbody>\n",
       "    <tr>\n",
       "      <th>0</th>\n",
       "      <td>[nyata, aplikasi, deh, ubah, hasil, bikin, loa...</td>\n",
       "    </tr>\n",
       "    <tr>\n",
       "      <th>1</th>\n",
       "      <td>[kai, acces, muat, halaman, cari, tiket, bayar...</td>\n",
       "    </tr>\n",
       "    <tr>\n",
       "      <th>2</th>\n",
       "      <td>[nyesel, perbarui, cmn, cek, jadwal, krl, pili...</td>\n",
       "    </tr>\n",
       "    <tr>\n",
       "      <th>3</th>\n",
       "      <td>[bingung, deh, aplikasi, pesan, tikett, online...</td>\n",
       "    </tr>\n",
       "    <tr>\n",
       "      <th>4</th>\n",
       "      <td>[langgan, usaha, hati, hati, mesan, kayak, rob...</td>\n",
       "    </tr>\n",
       "  </tbody>\n",
       "</table>\n",
       "</div>"
      ],
      "text/plain": [
       "                                          tokenizing\n",
       "0  [nyata, aplikasi, deh, ubah, hasil, bikin, loa...\n",
       "1  [kai, acces, muat, halaman, cari, tiket, bayar...\n",
       "2  [nyesel, perbarui, cmn, cek, jadwal, krl, pili...\n",
       "3  [bingung, deh, aplikasi, pesan, tikett, online...\n",
       "4  [langgan, usaha, hati, hati, mesan, kayak, rob..."
      ]
     },
     "execution_count": 72,
     "metadata": {},
     "output_type": "execute_result"
    }
   ],
   "source": [
    "df[['tokenizing']].head()"
   ]
  },
  {
   "cell_type": "code",
   "execution_count": 73,
   "id": "bb6b1d45-be70-4f8f-befd-5ff9ca8c61b9",
   "metadata": {},
   "outputs": [],
   "source": [
    "# df['tokenizing'].to_excel(\"tokenizing_ulasan_tiket_kai_access.xlsx\", index=False)"
   ]
  },
  {
   "cell_type": "markdown",
   "id": "6dd3206f",
   "metadata": {
    "jp-MarkdownHeadingCollapsed": true,
    "tags": []
   },
   "source": [
    "### 5.2 Labeling"
   ]
  },
  {
   "cell_type": "markdown",
   "id": "a864db9f",
   "metadata": {},
   "source": [
    "<i>Proses melakukan pelabelan (positif dan negatif) pada ulasan."
   ]
  },
  {
   "cell_type": "code",
   "execution_count": 74,
   "id": "d0a87662",
   "metadata": {},
   "outputs": [],
   "source": [
    "# Dictionary kata positif yang digunakan :\n",
    "df_positive = pd.read_csv(\n",
    "    'https://raw.githubusercontent.com/SadamMahendra/ID-NegPos/main/positive.txt', sep='\\t')\n",
    "list_positive = list(df_positive.iloc[::, 0])\n",
    "\n",
    "# Dictionary kata negatif yang digunakan :\n",
    "df_negative = pd.read_csv(\n",
    "    'https://raw.githubusercontent.com/SadamMahendra/ID-NegPos/main/negative.txt', sep='\\t')\n",
    "list_negative = list(df_negative.iloc[::, 0])"
   ]
  },
  {
   "cell_type": "code",
   "execution_count": 75,
   "id": "a57de8de",
   "metadata": {},
   "outputs": [
    {
     "name": "stdout",
     "output_type": "stream",
     "text": [
      "Positive :  1678 kata.\n",
      "Negative :  3586 kata.\n"
     ]
    },
    {
     "data": {
      "text/html": [
       "<div>\n",
       "<style scoped>\n",
       "    .dataframe tbody tr th:only-of-type {\n",
       "        vertical-align: middle;\n",
       "    }\n",
       "\n",
       "    .dataframe tbody tr th {\n",
       "        vertical-align: top;\n",
       "    }\n",
       "\n",
       "    .dataframe thead th {\n",
       "        text-align: right;\n",
       "    }\n",
       "</style>\n",
       "<table border=\"1\" class=\"dataframe\">\n",
       "  <thead>\n",
       "    <tr style=\"text-align: right;\">\n",
       "      <th></th>\n",
       "      <th>List Positive</th>\n",
       "      <th>List Negative</th>\n",
       "    </tr>\n",
       "  </thead>\n",
       "  <tbody>\n",
       "    <tr>\n",
       "      <th>0</th>\n",
       "      <td>absah</td>\n",
       "      <td>adiktif</td>\n",
       "    </tr>\n",
       "    <tr>\n",
       "      <th>1</th>\n",
       "      <td>absolut</td>\n",
       "      <td>adu</td>\n",
       "    </tr>\n",
       "    <tr>\n",
       "      <th>2</th>\n",
       "      <td>acuan</td>\n",
       "      <td>adu domba</td>\n",
       "    </tr>\n",
       "    <tr>\n",
       "      <th>3</th>\n",
       "      <td>afdol</td>\n",
       "      <td>aduh</td>\n",
       "    </tr>\n",
       "    <tr>\n",
       "      <th>4</th>\n",
       "      <td>akademisi</td>\n",
       "      <td>ahoker</td>\n",
       "    </tr>\n",
       "  </tbody>\n",
       "</table>\n",
       "</div>"
      ],
      "text/plain": [
       "  List Positive List Negative\n",
       "0         absah       adiktif\n",
       "1       absolut           adu\n",
       "2         acuan     adu domba\n",
       "3         afdol          aduh\n",
       "4     akademisi        ahoker"
      ]
     },
     "execution_count": 75,
     "metadata": {},
     "output_type": "execute_result"
    }
   ],
   "source": [
    "# Membuat DataFrame positive words\n",
    "df_positive_words = pd.DataFrame({'List Positive': list_positive})\n",
    "print(\"Positive : \", df_positive_words.shape[0], \"kata.\")\n",
    "\n",
    "# Membuat DataFrame negative words\n",
    "df_negative_words = pd.DataFrame({'List Negative': list_negative})\n",
    "print(\"Negative : \", df_negative_words.shape[0], \"kata.\")\n",
    "\n",
    "# Menggabungkan DataFrame positive dan negative\n",
    "df_dictionary = pd.concat([df_positive_words, df_negative_words], axis=1)\n",
    "\n",
    "# Menampilkan DataFrame dengan tabel positif di sebelah kiri dan tabel negatif di sebelah kanan\n",
    "df_dictionary.head()"
   ]
  },
  {
   "cell_type": "code",
   "execution_count": 76,
   "id": "e96c4df1",
   "metadata": {
    "scrolled": true
   },
   "outputs": [],
   "source": [
    "# menghitung kata-kata positif/negatif pada dictionary lalu menentukan sentimennya :\n",
    "def sentiment_analysis_dictionary_id(text):\n",
    "    score = 0\n",
    "    positive_words = []\n",
    "    negative_words = []\n",
    "    neutral_words = []\n",
    "\n",
    "    for word in text:\n",
    "        if (word in list_positive):\n",
    "            score += 1\n",
    "            positive_words.append(word)\n",
    "        if (word in list_negative):\n",
    "            score -= 1\n",
    "            negative_words.append(word)\n",
    "        if (word not in list_positive and word not in list_negative): \n",
    "            neutral_words.append(word)\n",
    "\n",
    "    polarity = ''\n",
    "    if (score > 0):\n",
    "        polarity = 'positive'\n",
    "    elif (score < 0):\n",
    "        polarity = 'negative'\n",
    "    else:\n",
    "        polarity = 'neutral'\n",
    "\n",
    "    result = {'positif': positive_words,'negatif':negative_words,'neutral': neutral_words}\n",
    "    return score, polarity, result, positive_words, negative_words, neutral_words\n",
    "\n",
    "hasil = df['tokenizing'].apply(sentiment_analysis_dictionary_id)\n",
    "hasil = list(zip(*hasil))\n",
    "df['polarity_score'] = hasil[0]\n",
    "df['polarity'] = hasil[1]\n",
    "hasil_kata_positive = hasil[3]\n",
    "hasil_kata_negative = hasil[4]\n",
    "hasil_kata_neutral = hasil[5]"
   ]
  },
  {
   "cell_type": "code",
   "execution_count": 77,
   "id": "1ab2008a-cbb6-4335-ad6e-ea5dc54ecec9",
   "metadata": {},
   "outputs": [],
   "source": [
    "# CEK NEUTRAL\n",
    "all_netral_words = [word for sublist in hasil_kata_neutral for word in sublist]\n",
    "netral_freq = pd.Series(all_netral_words).value_counts().reset_index().rename(columns={'index': 'Neutral Word', 0: 'Frequency'})\n",
    "topword_neutral = netral_freq.head()\n",
    "\n",
    "# HAPUS NETRAL\n",
    "df = df[df.polarity != 'neutral']"
   ]
  },
  {
   "cell_type": "code",
   "execution_count": 78,
   "id": "367d44f2",
   "metadata": {},
   "outputs": [
    {
     "name": "stdout",
     "output_type": "stream",
     "text": [
      "jumlah:  4446\n",
      "negative    2702\n",
      "positive    1744\n",
      "Name: polarity, dtype: int64\n"
     ]
    }
   ],
   "source": [
    "# menghitung hasil sentiment analysis\n",
    "print(\"jumlah: \", df['polarity'].value_counts().sum())\n",
    "print(df['polarity'].value_counts())"
   ]
  },
  {
   "cell_type": "code",
   "execution_count": 79,
   "id": "9065b18a",
   "metadata": {},
   "outputs": [
    {
     "data": {
      "text/html": [
       "<div>\n",
       "<style scoped>\n",
       "    .dataframe tbody tr th:only-of-type {\n",
       "        vertical-align: middle;\n",
       "    }\n",
       "\n",
       "    .dataframe tbody tr th {\n",
       "        vertical-align: top;\n",
       "    }\n",
       "\n",
       "    .dataframe thead th {\n",
       "        text-align: right;\n",
       "    }\n",
       "</style>\n",
       "<table border=\"1\" class=\"dataframe\">\n",
       "  <thead>\n",
       "    <tr style=\"text-align: right;\">\n",
       "      <th></th>\n",
       "      <th>content</th>\n",
       "      <th>cleaning</th>\n",
       "      <th>normalize</th>\n",
       "      <th>removal</th>\n",
       "      <th>tokenizing</th>\n",
       "      <th>polarity_score</th>\n",
       "      <th>polarity</th>\n",
       "    </tr>\n",
       "  </thead>\n",
       "  <tbody>\n",
       "    <tr>\n",
       "      <th>1</th>\n",
       "      <td>Sejauh yang saya rasakan saat ini, saya merasa...</td>\n",
       "      <td>sejauh yang saya rasakan saat ini saya merasa ...</td>\n",
       "      <td>jauh yang saya rasa saat ini saya rasa kai acc...</td>\n",
       "      <td>kai acces muat halaman cari tiket bayar tiket ...</td>\n",
       "      <td>[kai, acces, muat, halaman, cari, tiket, bayar...</td>\n",
       "      <td>-1</td>\n",
       "      <td>negative</td>\n",
       "    </tr>\n",
       "    <tr>\n",
       "      <th>3</th>\n",
       "      <td>Bingung deh sama apk baru ini. Udh pesen tiket...</td>\n",
       "      <td>bingung deh sama apk baru ini udh pesen tikett...</td>\n",
       "      <td>bingung deh sama aplikasi baru ini sudah pesan...</td>\n",
       "      <td>bingung deh aplikasi pesan tikett online riway...</td>\n",
       "      <td>[bingung, deh, aplikasi, pesan, tikett, online...</td>\n",
       "      <td>-3</td>\n",
       "      <td>negative</td>\n",
       "    </tr>\n",
       "    <tr>\n",
       "      <th>4</th>\n",
       "      <td>Pelanggan diusahakan harus hati-hati dalam pem...</td>\n",
       "      <td>pelanggan diusahakan harus hati hati dalam pem...</td>\n",
       "      <td>langgan usaha harus hati hati dalam mesan haru...</td>\n",
       "      <td>langgan usaha hati hati mesan kayak robot sala...</td>\n",
       "      <td>[langgan, usaha, hati, hati, mesan, kayak, rob...</td>\n",
       "      <td>1</td>\n",
       "      <td>positive</td>\n",
       "    </tr>\n",
       "    <tr>\n",
       "      <th>5</th>\n",
       "      <td>Lemot. Login lemot, loading tiket lemotnya min...</td>\n",
       "      <td>lemot login lemot loading tiket lemotnya minta...</td>\n",
       "      <td>lambat login lambat loading tiket lambat minta...</td>\n",
       "      <td>lambat login lambat loading tiket lambat ampun...</td>\n",
       "      <td>[lambat, login, lambat, loading, tiket, lambat...</td>\n",
       "      <td>-6</td>\n",
       "      <td>negative</td>\n",
       "    </tr>\n",
       "    <tr>\n",
       "      <th>6</th>\n",
       "      <td>Sangat buruk dan merugikan!!!!! Saya sudah bay...</td>\n",
       "      <td>sangat buruk dan merugikan saya sudah bayar ti...</td>\n",
       "      <td>sangat buruk dan rugi saya sudah bayar tiket l...</td>\n",
       "      <td>buruk rugi bayar tiket kaipay saldo kaipay tik...</td>\n",
       "      <td>[buruk, rugi, bayar, tiket, kaipay, saldo, kai...</td>\n",
       "      <td>-2</td>\n",
       "      <td>negative</td>\n",
       "    </tr>\n",
       "  </tbody>\n",
       "</table>\n",
       "</div>"
      ],
      "text/plain": [
       "                                             content  \\\n",
       "1  Sejauh yang saya rasakan saat ini, saya merasa...   \n",
       "3  Bingung deh sama apk baru ini. Udh pesen tiket...   \n",
       "4  Pelanggan diusahakan harus hati-hati dalam pem...   \n",
       "5  Lemot. Login lemot, loading tiket lemotnya min...   \n",
       "6  Sangat buruk dan merugikan!!!!! Saya sudah bay...   \n",
       "\n",
       "                                            cleaning  \\\n",
       "1  sejauh yang saya rasakan saat ini saya merasa ...   \n",
       "3  bingung deh sama apk baru ini udh pesen tikett...   \n",
       "4  pelanggan diusahakan harus hati hati dalam pem...   \n",
       "5  lemot login lemot loading tiket lemotnya minta...   \n",
       "6  sangat buruk dan merugikan saya sudah bayar ti...   \n",
       "\n",
       "                                           normalize  \\\n",
       "1  jauh yang saya rasa saat ini saya rasa kai acc...   \n",
       "3  bingung deh sama aplikasi baru ini sudah pesan...   \n",
       "4  langgan usaha harus hati hati dalam mesan haru...   \n",
       "5  lambat login lambat loading tiket lambat minta...   \n",
       "6  sangat buruk dan rugi saya sudah bayar tiket l...   \n",
       "\n",
       "                                             removal  \\\n",
       "1  kai acces muat halaman cari tiket bayar tiket ...   \n",
       "3  bingung deh aplikasi pesan tikett online riway...   \n",
       "4  langgan usaha hati hati mesan kayak robot sala...   \n",
       "5  lambat login lambat loading tiket lambat ampun...   \n",
       "6  buruk rugi bayar tiket kaipay saldo kaipay tik...   \n",
       "\n",
       "                                          tokenizing  polarity_score  polarity  \n",
       "1  [kai, acces, muat, halaman, cari, tiket, bayar...              -1  negative  \n",
       "3  [bingung, deh, aplikasi, pesan, tikett, online...              -3  negative  \n",
       "4  [langgan, usaha, hati, hati, mesan, kayak, rob...               1  positive  \n",
       "5  [lambat, login, lambat, loading, tiket, lambat...              -6  negative  \n",
       "6  [buruk, rugi, bayar, tiket, kaipay, saldo, kai...              -2  negative  "
      ]
     },
     "execution_count": 79,
     "metadata": {},
     "output_type": "execute_result"
    }
   ],
   "source": [
    "df.head()"
   ]
  },
  {
   "cell_type": "markdown",
   "id": "27579901-c7e7-4686-a1be-b26c013b50c1",
   "metadata": {
    "jp-MarkdownHeadingCollapsed": true,
    "tags": []
   },
   "source": [
    "### 5.2.1 Top Words"
   ]
  },
  {
   "cell_type": "markdown",
   "id": "bdce5350-78dc-4f17-ad0b-b0b2fe0dfaa3",
   "metadata": {},
   "source": [
    "Merupakan kata teratas yang paling sering muncul di seluruh dokumen berdasarkan kata dari kamus dictionary positive negative."
   ]
  },
  {
   "cell_type": "code",
   "execution_count": 80,
   "id": "9523158c-da12-4a93-aa3c-dc4841c818e5",
   "metadata": {
    "scrolled": true,
    "tags": []
   },
   "outputs": [
    {
     "data": {
      "text/html": [
       "<div>\n",
       "<style scoped>\n",
       "    .dataframe tbody tr th:only-of-type {\n",
       "        vertical-align: middle;\n",
       "    }\n",
       "\n",
       "    .dataframe tbody tr th {\n",
       "        vertical-align: top;\n",
       "    }\n",
       "\n",
       "    .dataframe thead th {\n",
       "        text-align: right;\n",
       "    }\n",
       "</style>\n",
       "<table border=\"1\" class=\"dataframe\">\n",
       "  <thead>\n",
       "    <tr style=\"text-align: right;\">\n",
       "      <th></th>\n",
       "      <th>Positive Word</th>\n",
       "      <th>Frequency</th>\n",
       "      <th>Negative Word</th>\n",
       "      <th>Frequency</th>\n",
       "    </tr>\n",
       "  </thead>\n",
       "  <tbody>\n",
       "    <tr>\n",
       "      <th>0</th>\n",
       "      <td>mudah</td>\n",
       "      <td>935</td>\n",
       "      <td>susah</td>\n",
       "      <td>592</td>\n",
       "    </tr>\n",
       "    <tr>\n",
       "      <th>1</th>\n",
       "      <td>bantu</td>\n",
       "      <td>614</td>\n",
       "      <td>batal</td>\n",
       "      <td>546</td>\n",
       "    </tr>\n",
       "    <tr>\n",
       "      <th>2</th>\n",
       "      <td>bagus</td>\n",
       "      <td>398</td>\n",
       "      <td>lambat</td>\n",
       "      <td>530</td>\n",
       "    </tr>\n",
       "    <tr>\n",
       "      <th>3</th>\n",
       "      <td>kasih</td>\n",
       "      <td>395</td>\n",
       "      <td>ribet</td>\n",
       "      <td>418</td>\n",
       "    </tr>\n",
       "    <tr>\n",
       "      <th>4</th>\n",
       "      <td>pilih</td>\n",
       "      <td>357</td>\n",
       "      <td>kecewa</td>\n",
       "      <td>387</td>\n",
       "    </tr>\n",
       "    <tr>\n",
       "      <th>5</th>\n",
       "      <td>cepat</td>\n",
       "      <td>205</td>\n",
       "      <td>error</td>\n",
       "      <td>317</td>\n",
       "    </tr>\n",
       "    <tr>\n",
       "      <th>6</th>\n",
       "      <td>lancar</td>\n",
       "      <td>182</td>\n",
       "      <td>gagal</td>\n",
       "      <td>311</td>\n",
       "    </tr>\n",
       "    <tr>\n",
       "      <th>7</th>\n",
       "      <td>bintang</td>\n",
       "      <td>165</td>\n",
       "      <td>sulit</td>\n",
       "      <td>293</td>\n",
       "    </tr>\n",
       "    <tr>\n",
       "      <th>8</th>\n",
       "      <td>suka</td>\n",
       "      <td>127</td>\n",
       "      <td>eror</td>\n",
       "      <td>278</td>\n",
       "    </tr>\n",
       "    <tr>\n",
       "      <th>9</th>\n",
       "      <td>maaf</td>\n",
       "      <td>126</td>\n",
       "      <td>hilang</td>\n",
       "      <td>272</td>\n",
       "    </tr>\n",
       "    <tr>\n",
       "      <th>10</th>\n",
       "      <td>nyaman</td>\n",
       "      <td>113</td>\n",
       "      <td>salah</td>\n",
       "      <td>207</td>\n",
       "    </tr>\n",
       "    <tr>\n",
       "      <th>11</th>\n",
       "      <td>sesuai</td>\n",
       "      <td>107</td>\n",
       "      <td>parah</td>\n",
       "      <td>205</td>\n",
       "    </tr>\n",
       "    <tr>\n",
       "      <th>12</th>\n",
       "      <td>solusi</td>\n",
       "      <td>106</td>\n",
       "      <td>melulu</td>\n",
       "      <td>167</td>\n",
       "    </tr>\n",
       "    <tr>\n",
       "      <th>13</th>\n",
       "      <td>enak</td>\n",
       "      <td>91</td>\n",
       "      <td>buruk</td>\n",
       "      <td>152</td>\n",
       "    </tr>\n",
       "    <tr>\n",
       "      <th>14</th>\n",
       "      <td>kerja</td>\n",
       "      <td>91</td>\n",
       "      <td>pergi</td>\n",
       "      <td>147</td>\n",
       "    </tr>\n",
       "    <tr>\n",
       "      <th>15</th>\n",
       "      <td>sukses</td>\n",
       "      <td>86</td>\n",
       "      <td>rugi</td>\n",
       "      <td>133</td>\n",
       "    </tr>\n",
       "    <tr>\n",
       "      <th>16</th>\n",
       "      <td>gampang</td>\n",
       "      <td>77</td>\n",
       "      <td>bug</td>\n",
       "      <td>123</td>\n",
       "    </tr>\n",
       "    <tr>\n",
       "      <th>17</th>\n",
       "      <td>sayang</td>\n",
       "      <td>75</td>\n",
       "      <td>aneh</td>\n",
       "      <td>109</td>\n",
       "    </tr>\n",
       "    <tr>\n",
       "      <th>18</th>\n",
       "      <td>diperbarui</td>\n",
       "      <td>74</td>\n",
       "      <td>jelek</td>\n",
       "      <td>102</td>\n",
       "    </tr>\n",
       "    <tr>\n",
       "      <th>19</th>\n",
       "      <td>selesai</td>\n",
       "      <td>72</td>\n",
       "      <td>payah</td>\n",
       "      <td>100</td>\n",
       "    </tr>\n",
       "  </tbody>\n",
       "</table>\n",
       "</div>"
      ],
      "text/plain": [
       "   Positive Word  Frequency Negative Word  Frequency\n",
       "0          mudah        935         susah        592\n",
       "1          bantu        614         batal        546\n",
       "2          bagus        398        lambat        530\n",
       "3          kasih        395         ribet        418\n",
       "4          pilih        357        kecewa        387\n",
       "5          cepat        205         error        317\n",
       "6         lancar        182         gagal        311\n",
       "7        bintang        165         sulit        293\n",
       "8           suka        127          eror        278\n",
       "9           maaf        126        hilang        272\n",
       "10        nyaman        113         salah        207\n",
       "11        sesuai        107         parah        205\n",
       "12        solusi        106        melulu        167\n",
       "13          enak         91         buruk        152\n",
       "14         kerja         91         pergi        147\n",
       "15        sukses         86          rugi        133\n",
       "16       gampang         77           bug        123\n",
       "17        sayang         75          aneh        109\n",
       "18    diperbarui         74         jelek        102\n",
       "19       selesai         72         payah        100"
      ]
     },
     "execution_count": 80,
     "metadata": {},
     "output_type": "execute_result"
    }
   ],
   "source": [
    "def top_words(hasil_kata_positive, hasil_kata_negative):\n",
    "    all_positive_words = [word for sublist in hasil_kata_positive for word in sublist]\n",
    "    all_negative_words = [word for sublist in hasil_kata_negative for word in sublist]\n",
    "    positive_freq = pd.Series(all_positive_words).value_counts().reset_index().rename(columns={'index': 'Positive Word', 0: 'Frequency'})\n",
    "    negative_freq = pd.Series(all_negative_words).value_counts().reset_index().rename(columns={'index': 'Negative Word', 0: 'Frequency'})\n",
    "    topword_positive = positive_freq.head(20)\n",
    "    topword_negative = negative_freq.head(20)\n",
    "    return topword_positive, topword_negative\n",
    "        \n",
    "top_kata_positive, top_kata_negative = top_words(hasil_kata_positive, hasil_kata_negative)\n",
    "result3 = pd.DataFrame(top_kata_positive)\n",
    "result4 = pd.DataFrame(top_kata_negative)\n",
    "\n",
    "concate_result = pd.concat([result3, result4], axis=1)\n",
    "concate_result"
   ]
  },
  {
   "cell_type": "markdown",
   "id": "ea053586-3551-4af3-a29d-3d7ad39d2fca",
   "metadata": {
    "tags": []
   },
   "source": [
    "### 5.2.2 Pie Chart"
   ]
  },
  {
   "cell_type": "markdown",
   "id": "49209ad7-e5cd-4878-a7eb-314adc8155f7",
   "metadata": {},
   "source": [
    "Proses melakukan visualisasi jumlah sentimen positive & negative menggunakan Pie Chart."
   ]
  },
  {
   "cell_type": "code",
   "execution_count": 81,
   "id": "be267228-1b1e-4f70-b73c-5ef31ac531e8",
   "metadata": {
    "tags": []
   },
   "outputs": [
    {
     "data": {
      "image/png": "[encoded data removed]",
      "text/plain": [
       "<Figure size 600x600 with 1 Axes>"
      ]
     },
     "metadata": {},
     "output_type": "display_data"
    }
   ],
   "source": [
    "import matplotlib.pyplot as plt\n",
    "\n",
    "df_sub = df.loc[df.polarity.isin(['positive', 'negative'])]\n",
    "sizes = [count for count in df_sub.polarity.value_counts()]\n",
    "explode = (0.1, 0)\n",
    "total_sizes = sum(sizes)\n",
    "fig, ax = plt.subplots(figsize=(6, 6), facecolor='none')\n",
    "labels = ['Negative', 'Positive']\n",
    "colors = ['#ff9999', '#66b3ff']\n",
    "wedgeprops = {'width': 0.7, 'edgecolor': 'white', 'linewidth': 2}\n",
    "pie = ax.pie(x=sizes, labels=['', ''], colors=colors, explode=explode,\n",
    "    autopct=lambda pct: \"{:.1f}%\\n({:d})\".format(pct, int(pct / 100 * total_sizes)),\n",
    "    textprops={'fontsize': 9, 'color': 'black'}, shadow=True,\n",
    "    wedgeprops=wedgeprops)\n",
    "ax.legend(pie[0], labels, loc='center left', fontsize=10)\n",
    "ax.set_title(f\"Sentiment Analysis on KAI Access Reviews \\n(Total: {total_sizes} reviews)\", \n",
    "             fontsize=10, color='black', pad=4)\n",
    "plt.show(fig)"
   ]
  },
  {
   "cell_type": "markdown",
   "id": "9cf1d4bf-9650-4d15-a69c-8af2a8999f21",
   "metadata": {
    "tags": []
   },
   "source": [
    "### 5.2.3 Wordcloud"
   ]
  },
  {
   "cell_type": "markdown",
   "id": "1dff12a0-71c9-48d1-ad9c-4b0b14379800",
   "metadata": {},
   "source": [
    "<i>Proses menampilkan seluruh kata dalam sentimen pada Wordcloud. Jika kata semakin sering muncul, maka ditampilkan dengan ukuran yang lebih besar."
   ]
  },
  {
   "cell_type": "code",
   "execution_count": 82,
   "id": "08314712-7f74-4cc0-9d0d-3ff1d6468365",
   "metadata": {
    "tags": []
   },
   "outputs": [
    {
     "data": {
      "image/png": "[encoded data removed]",
      "text/plain": [
       "<Figure size 900x400 with 1 Axes>"
      ]
     },
     "metadata": {},
     "output_type": "display_data"
    },
    {
     "data": {
      "image/png": "[encoded data removed]",
      "text/plain": [
       "<Figure size 900x400 with 1 Axes>"
      ]
     },
     "metadata": {},
     "output_type": "display_data"
    }
   ],
   "source": [
    "from collections import Counter\n",
    "from wordcloud import WordCloud, ImageColorGenerator\n",
    "from PIL import Image\n",
    "import numpy as np\n",
    "\n",
    "positive_words = df[df.polarity == 'positive']['tokenizing'].apply(pd.Series).stack().tolist()\n",
    "positive_word_counts = Counter(positive_words)\n",
    "\n",
    "negative_words = df[df.polarity == 'negative']['tokenizing'].apply(pd.Series).stack().tolist()\n",
    "negative_word_counts = Counter(negative_words)\n",
    "\n",
    "mask_pos = np.array(Image.open(\"img/train_pos.jpg\"))\n",
    "mask_neg = np.array(Image.open(\"img/train_neg.jpg\"))\n",
    "\n",
    "positive_wordcloud = WordCloud(width=1000, height=800, mask=mask_pos, max_words=2000,\n",
    "                               background_color='black').generate_from_frequencies(positive_word_counts)\n",
    "\n",
    "negative_wordcloud = WordCloud(width=1000, height=800, mask=mask_neg, max_words=2000,\n",
    "                               background_color='black').generate_from_frequencies(negative_word_counts)\n",
    "\n",
    "figPos, axPos = plt.subplots(figsize=(9, 4))\n",
    "axPos.imshow(positive_wordcloud.recolor(color_func=ImageColorGenerator(mask_pos)), interpolation='bilinear')\n",
    "axPos.axis('off')\n",
    "plt.show(figPos)\n",
    "\n",
    "figNeg, axNeg = plt.subplots(figsize=(9, 4))\n",
    "axNeg.imshow(negative_wordcloud.recolor(color_func=ImageColorGenerator(mask_neg)), interpolation='bilinear')\n",
    "axNeg.axis('off')\n",
    "plt.show(figNeg)"
   ]
  },
  {
   "cell_type": "markdown",
   "id": "ab8ec089",
   "metadata": {
    "tags": []
   },
   "source": [
    "### 5.3 Pembobotan TF-IDF"
   ]
  },
  {
   "cell_type": "markdown",
   "id": "26303cfd",
   "metadata": {},
   "source": [
    "<i>Proses memberikan nilai bobot pada dokumen. Proses TF-IDF (Term Frequency-Inverse Document Frequency) tujuannya untuk mengetahui seberapa penting suatu kata dalam dokumen tersebut. "
   ]
  },
  {
   "cell_type": "code",
   "execution_count": 83,
   "id": "d9e334dd",
   "metadata": {},
   "outputs": [
    {
     "name": "stdout",
     "output_type": "stream",
     "text": [
      "  (0, 4797)\t0.13039729791857338\n",
      "  (0, 4693)\t0.18125483579028678\n",
      "  (0, 3882)\t0.1737135375768776\n",
      "  (0, 3415)\t0.2700720069609502\n",
      "  (0, 3054)\t0.2407174358368436\n",
      "  (0, 3032)\t0.5214254531574878\n",
      "  (0, 2352)\t0.1910890649792146\n",
      "  (0, 2322)\t0.15534745496733043\n",
      "  (0, 2041)\t0.08072483100166074\n",
      "  (0, 1930)\t0.17485517806318354\n",
      "  (0, 1657)\t0.42004192075980845\n",
      "  (0, 1654)\t0.18270100344973808\n",
      "  (0, 1116)\t0.2832631717757892\n",
      "  (0, 788)\t0.1409048506572884\n",
      "  (0, 708)\t0.15698264411981855\n",
      "  (0, 432)\t0.16967090759258355\n",
      "  (0, 423)\t0.18055516548095946\n",
      "  (0, 254)\t0.055936248578044585\n",
      "  (0, 20)\t0.14280053725343078\n",
      "  (1, 4993)\t0.27459515105608756\n",
      "  (1, 4804)\t0.32862881023344515\n",
      "  (1, 4797)\t0.042268478936550995\n",
      "  (1, 4166)\t0.26809260970685844\n",
      "  (1, 4051)\t0.2516638093099099\n",
      "  (1, 3663)\t0.1639679699552372\n",
      "  (1, 3398)\t0.32862881023344515\n",
      "  (1, 3397)\t0.16480583765325824\n",
      "  (1, 2759)\t0.15051334289636453\n",
      "  (1, 2225)\t0.23241950414235615\n",
      "  (1, 2086)\t0.3209379361922989\n",
      "  (1, 995)\t0.3653961428424432\n",
      "  (1, 569)\t0.4462213703918374\n",
      "  (1, 254)\t0.07252727418591667\n"
     ]
    }
   ],
   "source": [
    "from sklearn.feature_extraction.text import TfidfVectorizer\n",
    "\n",
    "df = df.copy()\n",
    "df['tokenizing'] = df['tokenizing'].astype(str)\n",
    "tf_idf = TfidfVectorizer()\n",
    "review = df['tokenizing'].values.tolist()\n",
    "tf_idf_vector = tf_idf.fit(review)\n",
    "X = tf_idf_vector.transform(review)\n",
    "y = df['polarity']\n",
    "\n",
    "print(X[0:2])"
   ]
  },
  {
   "cell_type": "markdown",
   "id": "e59c8d68",
   "metadata": {
    "tags": []
   },
   "source": [
    "## 6. Modeling :"
   ]
  },
  {
   "cell_type": "markdown",
   "id": "c9770cf9",
   "metadata": {
    "tags": []
   },
   "source": [
    "### 6.1 Pemisahan Data (Train & Test) "
   ]
  },
  {
   "cell_type": "markdown",
   "id": "e0ef01e6",
   "metadata": {},
   "source": [
    "<i>Proses pemisahan data latih (train) & data uji (test). Data latih (train) ditetapkan 90%, dan data uji (test) sebanyak 10%."
   ]
  },
  {
   "cell_type": "code",
   "execution_count": 84,
   "id": "0ffc3fd9",
   "metadata": {},
   "outputs": [
    {
     "name": "stdout",
     "output_type": "stream",
     "text": [
      "Total Data :  4446\n",
      "Total Data Train :  4001\n",
      "Total Data Test :  445\n"
     ]
    }
   ],
   "source": [
    "# from sklearn.feature_extraction.text import CountVectorizer\n",
    "from sklearn.model_selection import train_test_split\n",
    "\n",
    "X_train, X_test, y_train, y_test = train_test_split(X, y, train_size=0.9, random_state=0)\n",
    "all_data = len(y)\n",
    "data_train = len(y_train)\n",
    "data_test = len(y_test)\n",
    "vector = X_train.shape, X_test.shape\n",
    "\n",
    "print(\"Total Data : \", all_data)\n",
    "print(\"Total Data Train : \", data_train)\n",
    "print(\"Total Data Test : \", data_test)\n"
   ]
  },
  {
   "cell_type": "markdown",
   "id": "117a23f4",
   "metadata": {
    "tags": []
   },
   "source": [
    "### 6.2 Radom Forest Classifier"
   ]
  },
  {
   "cell_type": "markdown",
   "id": "1deee71d",
   "metadata": {},
   "source": [
    "<i>Pada proses ini, data yang telah dibagi akan dimodeling dengan Random Forest Classifier untuk mendapatkan akurasi. "
   ]
  },
  {
   "cell_type": "code",
   "execution_count": 85,
   "id": "49ea7264",
   "metadata": {},
   "outputs": [],
   "source": [
    "from sklearn.ensemble import RandomForestClassifier\n",
    "rfc = RandomForestClassifier(criterion='entropy')\n",
    "\n",
    "rfc_fit = rfc.fit(X_train, y_train)\n",
    "y_pred = rfc.predict(X_test)\n",
    "\n",
    "predict = rfc.predict(X_test)"
   ]
  },
  {
   "cell_type": "code",
   "execution_count": 86,
   "id": "c3051258",
   "metadata": {},
   "outputs": [
    {
     "name": "stdout",
     "output_type": "stream",
     "text": [
      "Random Forest Classifier Accuracy Score:  91.7 %\n"
     ]
    }
   ],
   "source": [
    "from sklearn.metrics import accuracy_score\n",
    "\n",
    "akurasi = accuracy_score(y_pred, y_test) * 100\n",
    "akurasi_bulat = round(akurasi, 1)\n",
    "print(\"Random Forest Classifier Accuracy Score: \", akurasi_bulat, \"%\")"
   ]
  },
  {
   "cell_type": "markdown",
   "id": "adf535fc",
   "metadata": {
    "tags": []
   },
   "source": [
    "## 7. Evaluasi Performa Model :"
   ]
  },
  {
   "cell_type": "markdown",
   "id": "7ca7daed",
   "metadata": {},
   "source": [
    "### 7.1 Classification Report "
   ]
  },
  {
   "cell_type": "markdown",
   "id": "b665b866",
   "metadata": {},
   "source": [
    "<i>Proses menampilkan hasil kinerja model klasifikasi. Membantu dalam menganalisis dan memahami seberapa baik model dapat memprediksi label dengan benar. Jika semakin tinggi persentase Precision, Recall, dan F1-Score maka model sudah seimbang dan baik."
   ]
  },
  {
   "cell_type": "code",
   "execution_count": 87,
   "id": "7060c42c",
   "metadata": {},
   "outputs": [
    {
     "name": "stdout",
     "output_type": "stream",
     "text": [
      "Classification Report:\n",
      "\n",
      "               precision    recall  f1-score   support\n",
      "\n",
      "    negative       0.90      0.97      0.94       282\n",
      "    positive       0.94      0.82      0.88       163\n",
      "\n",
      "    accuracy                           0.92       445\n",
      "   macro avg       0.92      0.90      0.91       445\n",
      "weighted avg       0.92      0.92      0.92       445\n",
      "\n"
     ]
    }
   ],
   "source": [
    "from sklearn.metrics import classification_report\n",
    "\n",
    "classification_rep = classification_report(y_test, y_pred)\n",
    "print(\"Classification Report:\\n\\n\", classification_rep)"
   ]
  },
  {
   "cell_type": "markdown",
   "id": "cc013e29-e2e1-44ac-9a18-929685fe8dd3",
   "metadata": {
    "tags": []
   },
   "source": [
    "### 7.2 Confusion Matrix"
   ]
  },
  {
   "cell_type": "markdown",
   "id": "41ef4d9a",
   "metadata": {},
   "source": [
    "<i>Proses menampilkan Confusion Matrix dan Menghitung Akurasi Model. Confusion Matrix menyatakan jumlah data uji (test) yang benar dan salah diklasifikasi. Menghasilkan output True Positive, True Negative, False Positive, dan False Negative. Jika jumlah True (Positive & Negative) lebih banyak dari False (Positive & Negative), maka hasil data uji (test) dikatakan sudah baik."
   ]
  },
  {
   "cell_type": "code",
   "execution_count": 88,
   "id": "4d91cb75-5500-4371-a63c-de740d0fa8a0",
   "metadata": {
    "tags": []
   },
   "outputs": [
    {
     "data": {
      "image/png": "[encoded data removed]",
      "text/plain": [
       "<Figure size 640x480 with 2 Axes>"
      ]
     },
     "metadata": {},
     "output_type": "display_data"
    },
    {
     "name": "stdout",
     "output_type": "stream",
     "text": [
      "\n",
      "Equation Accuracy:\n",
      "(TP + TN) / (TP + TN + FP + FN) = Accuracy\n",
      "\n",
      "Calculate Accuracy:\n",
      "274 + 134 / 274 + 134 + 29 + 8 = 91.7\n",
      "\n"
     ]
    },
    {
     "data": {
      "text/html": [
       "<div>\n",
       "<style scoped>\n",
       "    .dataframe tbody tr th:only-of-type {\n",
       "        vertical-align: middle;\n",
       "    }\n",
       "\n",
       "    .dataframe tbody tr th {\n",
       "        vertical-align: top;\n",
       "    }\n",
       "\n",
       "    .dataframe thead th {\n",
       "        text-align: right;\n",
       "    }\n",
       "</style>\n",
       "<table border=\"1\" class=\"dataframe\">\n",
       "  <thead>\n",
       "    <tr style=\"text-align: right;\">\n",
       "      <th></th>\n",
       "      <th>Value</th>\n",
       "      <th>Label</th>\n",
       "      <th>As</th>\n",
       "    </tr>\n",
       "  </thead>\n",
       "  <tbody>\n",
       "    <tr>\n",
       "      <th>0</th>\n",
       "      <td>274</td>\n",
       "      <td>True Positive</td>\n",
       "      <td>TP</td>\n",
       "    </tr>\n",
       "    <tr>\n",
       "      <th>1</th>\n",
       "      <td>134</td>\n",
       "      <td>True Negative</td>\n",
       "      <td>TN</td>\n",
       "    </tr>\n",
       "    <tr>\n",
       "      <th>2</th>\n",
       "      <td>29</td>\n",
       "      <td>False Positive</td>\n",
       "      <td>FP</td>\n",
       "    </tr>\n",
       "    <tr>\n",
       "      <th>3</th>\n",
       "      <td>8</td>\n",
       "      <td>False Negative</td>\n",
       "      <td>FN</td>\n",
       "    </tr>\n",
       "  </tbody>\n",
       "</table>\n",
       "</div>"
      ],
      "text/plain": [
       "   Value           Label  As\n",
       "0    274   True Positive  TP\n",
       "1    134   True Negative  TN\n",
       "2     29  False Positive  FP\n",
       "3      8  False Negative  FN"
      ]
     },
     "execution_count": 88,
     "metadata": {},
     "output_type": "execute_result"
    }
   ],
   "source": [
    "import matplotlib.pyplot as plt\n",
    "from sklearn.metrics import confusion_matrix, ConfusionMatrixDisplay, classification_report\n",
    "\n",
    "cm = confusion_matrix(y_test, y_pred)\n",
    "\n",
    "fig, ax = plt.subplots()\n",
    "ConfusionMatrixDisplay(cm, display_labels=rfc.classes_).plot(ax=ax) \n",
    "plt.show(fig) \n",
    "\n",
    "print()\n",
    "TP = cm[0, 0]\n",
    "TN = cm[1, 1]\n",
    "FP = cm[1, 0]\n",
    "FN = cm[0, 1]\n",
    "Accuracy = (TP + TN) / (TP + TN + FP + FN)\n",
    "resultAccuracy = round(Accuracy, 3)*100\n",
    "\n",
    "equation = \"(TP + TN) / (TP + TN + FP + FN) = Accuracy\"\n",
    "calculate = f\"{TP} + {TN} / {TP} + {TN} + {FP} + {FN} = {resultAccuracy}\"\n",
    "\n",
    "df_cm = pd.DataFrame({\n",
    "    \"Value\": [TP, TN, FP, FN],\n",
    "    \"Label\": [\n",
    "        \"True Positive\", \"True Negative\", \"False Positive\", \"False Negative\"\n",
    "    ],\n",
    "    \"As\": [\"TP\", \"TN\", \"FP\", \"FN\"]\n",
    "})\n",
    "\n",
    "print(\"Equation Accuracy:\")\n",
    "print(equation)\n",
    "print()\n",
    "print(\"Calculate Accuracy:\")\n",
    "print(calculate)\n",
    "\n",
    "print()\n",
    "df_cm"
   ]
  },
  {
   "cell_type": "markdown",
   "id": "dcef76a9",
   "metadata": {},
   "source": [
    "<center>- Selesai. -</center>"
   ]
  }
 ],
 "metadata": {
  "kernelspec": {
   "display_name": "Python 3 (ipykernel)",
   "language": "python",
   "name": "python3"
  },
  "language_info": {
   "codemirror_mode": {
    "name": "ipython",
    "version": 3
   },
   "file_extension": ".py",
   "mimetype": "text/x-python",
   "name": "python",
   "nbconvert_exporter": "python",
   "pygments_lexer": "ipython3",
   "version": "3.9.16"
  }
 },
 "nbformat": 4,
 "nbformat_minor": 5
}
